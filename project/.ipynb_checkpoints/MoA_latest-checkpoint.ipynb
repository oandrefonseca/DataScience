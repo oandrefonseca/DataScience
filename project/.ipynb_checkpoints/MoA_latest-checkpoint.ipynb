{
 "cells": [
  {
   "cell_type": "markdown",
   "metadata": {
    "id": "29mohdOXgKue"
   },
   "source": [
    "# André Fonseca\n",
    "# Trabalho de conclusão do Data Science - Awari\n",
    "# Análise derivado do LISH-MOA\n",
    "## https://www.kaggle.com/c/lish-moa/overview\n"
   ]
  },
  {
   "cell_type": "markdown",
   "metadata": {
    "id": "Hl-Up2oEgKug"
   },
   "source": [
    "The Connectivity Map, a project within the Broad Institute of MIT and Harvard, the Laboratory for Innovation Science at Harvard (LISH), and the NIH Common Funds Library of Integrated Network-Based Cellular Signatures (LINCS), present this challenge with the goal of advancing drug development through improvements to MoA prediction algorithms.\n",
    "\n",
    "#### What is the Mechanism of Action (MoA) of a drug? And why is it important?\n",
    "\n",
    "In the past, scientists derived drugs from natural products or were inspired by traditional remedies. Very common drugs, such as paracetamol, known in the US as acetaminophen, were put into clinical use decades before the biological mechanisms driving their pharmacological activities were understood. Today, with the advent of more powerful technologies, drug discovery has changed from the serendipitous approaches of the past to a more targeted model based on an understanding of the underlying biological mechanism of a disease. In this new framework, scientists seek to identify a protein target associated with a disease and develop a molecule that can modulate that protein target. As a shorthand to describe the biological activity of a given molecule, scientists assign a label referred to as mechanism-of-action or MoA for short.\n",
    "\n",
    "#### How do we determine the MoAs of a new drug?\n",
    "\n",
    "One approach is to treat a sample of human cells with the drug and then analyze the cellular responses with algorithms that search for similarity to known patterns in large genomic databases, such as libraries of gene expression or cell viability patterns of drugs with known MoAs.\n",
    "\n",
    "In this competition, you will have access to a unique dataset that combines gene expression and cell viability data. The data is based on a new technology that measures simultaneously (within the same samples) human cells’ responses to drugs in a pool of 100 different cell types (thus solving the problem of identifying ex-ante, which cell types are better suited for a given drug). In addition, you will have access to MoA annotations for more than 5,000 drugs in this dataset.\n",
    "\n",
    "As is customary, the dataset has been split into testing and training subsets. Hence, your task is to use the training dataset to develop an algorithm that automatically labels each case in the test set as one or more MoA classes. Note that since drugs can have multiple MoA annotations, the task is formally a multi-label classification problem.\n",
    "\n",
    "#### How to evaluate the accuracy of a solution?\n",
    "\n",
    "Based on the MoA annotations, the accuracy of solutions will be evaluated on the average value of the logarithmic loss function applied to each drug-MoA annotation pair. If successful, you’ll help to develop an algorithm to predict a compound’s MoA given its cellular signature, thus helping scientists advance the drug discovery process."
   ]
  },
  {
   "cell_type": "markdown",
   "metadata": {
    "id": "pVvKSr8GTyr-"
   },
   "source": [
    "# 1. Import modules"
   ]
  },
  {
   "cell_type": "code",
   "execution_count": 1,
   "metadata": {
    "colab": {
     "base_uri": "https://localhost:8080/"
    },
    "executionInfo": {
     "elapsed": 4993,
     "status": "ok",
     "timestamp": 1604950334397,
     "user": {
      "displayName": "André Fonseca",
      "photoUrl": "",
      "userId": "12545155089174621642"
     },
     "user_tz": 180
    },
    "id": "94-BNlmnMPbd",
    "outputId": "1c45194f-4593-4d16-a887-03072821f623"
   },
   "outputs": [
    {
     "name": "stdout",
     "output_type": "stream",
     "text": [
      "Requirement already satisfied: fastcluster in /home/andrefonseca/anaconda3/lib/python3.6/site-packages (1.1.26)\r\n",
      "Requirement already satisfied: numpy>=1.9 in /home/andrefonseca/anaconda3/lib/python3.6/site-packages (from fastcluster) (1.18.0)\r\n"
     ]
    }
   ],
   "source": [
    "!pip install fastcluster"
   ]
  },
  {
   "cell_type": "code",
   "execution_count": 2,
   "metadata": {
    "colab": {
     "base_uri": "https://localhost:8080/"
    },
    "executionInfo": {
     "elapsed": 7620,
     "status": "ok",
     "timestamp": 1604950337040,
     "user": {
      "displayName": "André Fonseca",
      "photoUrl": "",
      "userId": "12545155089174621642"
     },
     "user_tz": 180
    },
    "id": "5Hha7grhi9sV",
    "outputId": "b5fb4aff-f33e-48f7-a780-5feb8aeb38ca"
   },
   "outputs": [
    {
     "name": "stdout",
     "output_type": "stream",
     "text": [
      "Requirement already satisfied: scikit-multilearn in /home/andrefonseca/anaconda3/lib/python3.6/site-packages (0.2.0)\r\n"
     ]
    }
   ],
   "source": [
    "!pip install scikit-multilearn"
   ]
  },
  {
   "cell_type": "code",
   "execution_count": 3,
   "metadata": {},
   "outputs": [
    {
     "name": "stdout",
     "output_type": "stream",
     "text": [
      "Requirement already satisfied: python-louvain in /home/andrefonseca/anaconda3/lib/python3.6/site-packages (0.14)\r\n",
      "Requirement already satisfied: numpy in /home/andrefonseca/anaconda3/lib/python3.6/site-packages (from python-louvain) (1.18.0)\r\n",
      "Requirement already satisfied: networkx in /home/andrefonseca/anaconda3/lib/python3.6/site-packages (from python-louvain) (2.5)\r\n",
      "Requirement already satisfied: decorator>=4.3.0 in /home/andrefonseca/anaconda3/lib/python3.6/site-packages (from networkx->python-louvain) (4.4.2)\r\n"
     ]
    }
   ],
   "source": [
    "!pip install python-louvain"
   ]
  },
  {
   "cell_type": "code",
   "execution_count": 30,
   "metadata": {
    "colab": {
     "base_uri": "https://localhost:8080/"
    },
    "executionInfo": {
     "elapsed": 9859,
     "status": "ok",
     "timestamp": 1604950339293,
     "user": {
      "displayName": "André Fonseca",
      "photoUrl": "",
      "userId": "12545155089174621642"
     },
     "user_tz": 180
    },
    "id": "j7Yatadknxnh",
    "outputId": "1b819aac-3af7-436c-a2fb-a56fb47631bb"
   },
   "outputs": [
    {
     "name": "stdout",
     "output_type": "stream",
     "text": [
      "Requirement already satisfied: networkx in /home/andrefonseca/anaconda3/lib/python3.6/site-packages (2.5)\n",
      "Requirement already satisfied: decorator>=4.3.0 in /home/andrefonseca/anaconda3/lib/python3.6/site-packages (from networkx) (4.4.2)\n"
     ]
    }
   ],
   "source": [
    "!pip install networkx"
   ]
  },
  {
   "cell_type": "code",
   "execution_count": 33,
   "metadata": {
    "id": "fiAKGl4AgKuq"
   },
   "outputs": [],
   "source": [
    "# Basic\n",
    "import pandas as pd\n",
    "import numpy as np\n",
    "import random \n",
    "\n",
    "import seaborn as sns\n",
    "import matplotlib.pyplot as plt\n",
    "\n",
    "from pandas_profiling import ProfileReport\n",
    "from sklearn.model_selection import train_test_split\n",
    "\n",
    "# Preprocessing\n",
    "from sklearn.preprocessing import StandardScaler\n",
    "from sklearn.preprocessing import MultiLabelBinarizer\n",
    "\n",
    "# Models\n",
    "from sklearn.dummy import DummyClassifier\n",
    "from sklearn.linear_model import LogisticRegression\n",
    "from sklearn.tree import DecisionTreeClassifier\n",
    "from sklearn.ensemble import RandomForestClassifier\n",
    "from sklearn.neighbors import KNeighborsRegressor\n",
    "from skmultilearn.adapt import MLkNN\n",
    "\n",
    "from sklearn.multiclass import OneVsRestClassifier\n",
    "from xgboost import XGBClassifier\n",
    "\n",
    "# Confusion matrix\n",
    "from sklearn.metrics import confusion_matrix\n",
    "\n",
    "# Metrics\n",
    "from sklearn.metrics import accuracy_score\n",
    "from sklearn.metrics import balanced_accuracy_score\n",
    "from sklearn.metrics import log_loss\n",
    "\n",
    "# Stats\n",
    "from scipy import stats\n",
    "\n",
    "# Clustering\n",
    "import fastcluster\n",
    "import networkx as nx\n",
    "import community\n",
    "\n",
    "# PCA\n",
    "from sklearn.decomposition import PCA\n",
    "\n",
    "# Grid and cross-validation\n",
    "from sklearn.model_selection import GridSearchCV\n",
    "\n",
    "%matplotlib inline"
   ]
  },
  {
   "cell_type": "code",
   "execution_count": null,
   "metadata": {
    "colab": {
     "base_uri": "https://localhost:8080/"
    },
    "executionInfo": {
     "elapsed": 73167,
     "status": "ok",
     "timestamp": 1604950403111,
     "user": {
      "displayName": "André Fonseca",
      "photoUrl": "",
      "userId": "12545155089174621642"
     },
     "user_tz": 180
    },
    "id": "5jgXpL0I-kMb",
    "outputId": "6734858c-cc97-44ff-cf47-14a1bfda72d8"
   },
   "outputs": [],
   "source": [
    "from google.colab import drive\n",
    "drive.mount('/content/drive')"
   ]
  },
  {
   "cell_type": "markdown",
   "metadata": {
    "id": "1Rm9oATXgKuz"
   },
   "source": [
    "# 2. Loading dataset"
   ]
  },
  {
   "cell_type": "markdown",
   "metadata": {
    "id": "1mjPaX35kLUt"
   },
   "source": [
    "### Files description\n",
    "\n",
    "**train_features.csv** - Features for the training set. Features g- signify gene expression data, and c- signify cell viability data. cp_type indicates samples treated with a compound (cp_vehicle) or with a control perturbation (ctrl_vehicle); control perturbations have no MoAs; cp_time and cp_dose indicate treatment duration (24, 48, 72 hours) and dose (high or low).\n",
    "\n",
    "**train_targets_scored.csv** - The binary MoA targets that are scored.\n",
    "\n",
    "**train_targets_nonscored.csv** - Additional (optional) binary MoA responses for the training data. These are not predicted nor scored.\n",
    "\n",
    "**test_features.csv** - Features for the test data. You must predict the probability of each scored MoA for each row in the test data.\n",
    "\n",
    "**sample_submission.csv** - A submission file in the correct format."
   ]
  },
  {
   "cell_type": "code",
   "execution_count": 9,
   "metadata": {
    "collapsed": true,
    "id": "ZV34-UmYgKu0"
   },
   "outputs": [],
   "source": [
    "train_features = pd.read_csv(\"./data/train_features.csv\")\n",
    "test_features = pd.read_csv(\"./data/test_features.csv\")"
   ]
  },
  {
   "cell_type": "code",
   "execution_count": 10,
   "metadata": {
    "colab": {
     "base_uri": "https://localhost:8080/"
    },
    "executionInfo": {
     "elapsed": 1374,
     "status": "ok",
     "timestamp": 1604950699082,
     "user": {
      "displayName": "André Fonseca",
      "photoUrl": "",
      "userId": "12545155089174621642"
     },
     "user_tz": 180
    },
    "id": "V1p_QkHzg-JD",
    "outputId": "33ca3a4f-c48a-452d-c5d1-d53eaf7b4047"
   },
   "outputs": [
    {
     "data": {
      "text/plain": [
       "(23814, 876)"
      ]
     },
     "execution_count": 10,
     "metadata": {},
     "output_type": "execute_result"
    }
   ],
   "source": [
    "train_features.shape"
   ]
  },
  {
   "cell_type": "code",
   "execution_count": 11,
   "metadata": {
    "collapsed": true,
    "id": "zGnR5N9fhL9n"
   },
   "outputs": [],
   "source": [
    "train_targets_sc = pd.read_csv(\"./data/train_targets_scored.csv\")\n",
    "train_targets_ns = pd.read_csv(\"./data/train_targets_nonscored.csv\")"
   ]
  },
  {
   "cell_type": "code",
   "execution_count": 12,
   "metadata": {
    "collapsed": true,
    "id": "ZWpVNImYgKu4"
   },
   "outputs": [],
   "source": [
    "sample_submission = pd.read_csv(\"./data/sample_submission.csv\")"
   ]
  },
  {
   "cell_type": "code",
   "execution_count": 13,
   "metadata": {
    "colab": {
     "base_uri": "https://localhost:8080/"
    },
    "executionInfo": {
     "elapsed": 12226,
     "status": "ok",
     "timestamp": 1604671323790,
     "user": {
      "displayName": "André Fonseca",
      "photoUrl": "",
      "userId": "12545155089174621642"
     },
     "user_tz": 180
    },
    "id": "fgwMD9iY0_5Z",
    "outputId": "fe39799c-9ede-44ba-8c76-3d941470ba55"
   },
   "outputs": [
    {
     "data": {
      "text/html": [
       "<div>\n",
       "<style scoped>\n",
       "    .dataframe tbody tr th:only-of-type {\n",
       "        vertical-align: middle;\n",
       "    }\n",
       "\n",
       "    .dataframe tbody tr th {\n",
       "        vertical-align: top;\n",
       "    }\n",
       "\n",
       "    .dataframe thead th {\n",
       "        text-align: right;\n",
       "    }\n",
       "</style>\n",
       "<table border=\"1\" class=\"dataframe\">\n",
       "  <thead>\n",
       "    <tr style=\"text-align: right;\">\n",
       "      <th></th>\n",
       "      <th>sig_id</th>\n",
       "      <th>5-alpha_reductase_inhibitor</th>\n",
       "      <th>11-beta-hsd1_inhibitor</th>\n",
       "      <th>acat_inhibitor</th>\n",
       "      <th>acetylcholine_receptor_agonist</th>\n",
       "      <th>acetylcholine_receptor_antagonist</th>\n",
       "      <th>acetylcholinesterase_inhibitor</th>\n",
       "      <th>adenosine_receptor_agonist</th>\n",
       "      <th>adenosine_receptor_antagonist</th>\n",
       "      <th>adenylyl_cyclase_activator</th>\n",
       "      <th>...</th>\n",
       "      <th>tropomyosin_receptor_kinase_inhibitor</th>\n",
       "      <th>trpv_agonist</th>\n",
       "      <th>trpv_antagonist</th>\n",
       "      <th>tubulin_inhibitor</th>\n",
       "      <th>tyrosine_kinase_inhibitor</th>\n",
       "      <th>ubiquitin_specific_protease_inhibitor</th>\n",
       "      <th>vegfr_inhibitor</th>\n",
       "      <th>vitamin_b</th>\n",
       "      <th>vitamin_d_receptor_agonist</th>\n",
       "      <th>wnt_inhibitor</th>\n",
       "    </tr>\n",
       "  </thead>\n",
       "  <tbody>\n",
       "    <tr>\n",
       "      <th>0</th>\n",
       "      <td>id_000644bb2</td>\n",
       "      <td>0</td>\n",
       "      <td>0</td>\n",
       "      <td>0</td>\n",
       "      <td>0</td>\n",
       "      <td>0</td>\n",
       "      <td>0</td>\n",
       "      <td>0</td>\n",
       "      <td>0</td>\n",
       "      <td>0</td>\n",
       "      <td>...</td>\n",
       "      <td>0</td>\n",
       "      <td>0</td>\n",
       "      <td>0</td>\n",
       "      <td>0</td>\n",
       "      <td>0</td>\n",
       "      <td>0</td>\n",
       "      <td>0</td>\n",
       "      <td>0</td>\n",
       "      <td>0</td>\n",
       "      <td>0</td>\n",
       "    </tr>\n",
       "  </tbody>\n",
       "</table>\n",
       "<p>1 rows × 207 columns</p>\n",
       "</div>"
      ],
      "text/plain": [
       "         sig_id  5-alpha_reductase_inhibitor  11-beta-hsd1_inhibitor  \\\n",
       "0  id_000644bb2                            0                       0   \n",
       "\n",
       "   acat_inhibitor  acetylcholine_receptor_agonist  \\\n",
       "0               0                               0   \n",
       "\n",
       "   acetylcholine_receptor_antagonist  acetylcholinesterase_inhibitor  \\\n",
       "0                                  0                               0   \n",
       "\n",
       "   adenosine_receptor_agonist  adenosine_receptor_antagonist  \\\n",
       "0                           0                              0   \n",
       "\n",
       "   adenylyl_cyclase_activator  ...  tropomyosin_receptor_kinase_inhibitor  \\\n",
       "0                           0  ...                                      0   \n",
       "\n",
       "   trpv_agonist  trpv_antagonist  tubulin_inhibitor  \\\n",
       "0             0                0                  0   \n",
       "\n",
       "   tyrosine_kinase_inhibitor  ubiquitin_specific_protease_inhibitor  \\\n",
       "0                          0                                      0   \n",
       "\n",
       "   vegfr_inhibitor  vitamin_b  vitamin_d_receptor_agonist  wnt_inhibitor  \n",
       "0                0          0                           0              0  \n",
       "\n",
       "[1 rows x 207 columns]"
      ]
     },
     "execution_count": 13,
     "metadata": {},
     "output_type": "execute_result"
    }
   ],
   "source": [
    "train_targets_sc.head(1)"
   ]
  },
  {
   "cell_type": "code",
   "execution_count": 14,
   "metadata": {
    "colab": {
     "base_uri": "https://localhost:8080/"
    },
    "executionInfo": {
     "elapsed": 10730,
     "status": "ok",
     "timestamp": 1604671323791,
     "user": {
      "displayName": "André Fonseca",
      "photoUrl": "",
      "userId": "12545155089174621642"
     },
     "user_tz": 180
    },
    "id": "qFgYYCG278gJ",
    "outputId": "db2b3d67-e0ef-4ad0-e1ab-7102ac030f9f"
   },
   "outputs": [
    {
     "data": {
      "text/html": [
       "<div>\n",
       "<style scoped>\n",
       "    .dataframe tbody tr th:only-of-type {\n",
       "        vertical-align: middle;\n",
       "    }\n",
       "\n",
       "    .dataframe tbody tr th {\n",
       "        vertical-align: top;\n",
       "    }\n",
       "\n",
       "    .dataframe thead th {\n",
       "        text-align: right;\n",
       "    }\n",
       "</style>\n",
       "<table border=\"1\" class=\"dataframe\">\n",
       "  <thead>\n",
       "    <tr style=\"text-align: right;\">\n",
       "      <th></th>\n",
       "      <th>sig_id</th>\n",
       "      <th>cp_type</th>\n",
       "      <th>cp_time</th>\n",
       "      <th>cp_dose</th>\n",
       "      <th>g-0</th>\n",
       "      <th>g-1</th>\n",
       "      <th>g-2</th>\n",
       "      <th>g-3</th>\n",
       "      <th>g-4</th>\n",
       "      <th>g-5</th>\n",
       "      <th>...</th>\n",
       "      <th>c-90</th>\n",
       "      <th>c-91</th>\n",
       "      <th>c-92</th>\n",
       "      <th>c-93</th>\n",
       "      <th>c-94</th>\n",
       "      <th>c-95</th>\n",
       "      <th>c-96</th>\n",
       "      <th>c-97</th>\n",
       "      <th>c-98</th>\n",
       "      <th>c-99</th>\n",
       "    </tr>\n",
       "  </thead>\n",
       "  <tbody>\n",
       "    <tr>\n",
       "      <th>0</th>\n",
       "      <td>id_000644bb2</td>\n",
       "      <td>trt_cp</td>\n",
       "      <td>24</td>\n",
       "      <td>D1</td>\n",
       "      <td>1.062</td>\n",
       "      <td>0.5577</td>\n",
       "      <td>-0.2479</td>\n",
       "      <td>-0.6208</td>\n",
       "      <td>-0.1944</td>\n",
       "      <td>-1.012</td>\n",
       "      <td>...</td>\n",
       "      <td>0.2862</td>\n",
       "      <td>0.2584</td>\n",
       "      <td>0.8076</td>\n",
       "      <td>0.5523</td>\n",
       "      <td>-0.1912</td>\n",
       "      <td>0.6584</td>\n",
       "      <td>-0.3981</td>\n",
       "      <td>0.2139</td>\n",
       "      <td>0.3801</td>\n",
       "      <td>0.4176</td>\n",
       "    </tr>\n",
       "  </tbody>\n",
       "</table>\n",
       "<p>1 rows × 876 columns</p>\n",
       "</div>"
      ],
      "text/plain": [
       "         sig_id cp_type  cp_time cp_dose    g-0     g-1     g-2     g-3  \\\n",
       "0  id_000644bb2  trt_cp       24      D1  1.062  0.5577 -0.2479 -0.6208   \n",
       "\n",
       "      g-4    g-5  ...    c-90    c-91    c-92    c-93    c-94    c-95    c-96  \\\n",
       "0 -0.1944 -1.012  ...  0.2862  0.2584  0.8076  0.5523 -0.1912  0.6584 -0.3981   \n",
       "\n",
       "     c-97    c-98    c-99  \n",
       "0  0.2139  0.3801  0.4176  \n",
       "\n",
       "[1 rows x 876 columns]"
      ]
     },
     "execution_count": 14,
     "metadata": {},
     "output_type": "execute_result"
    }
   ],
   "source": [
    "train_features.head(1)"
   ]
  },
  {
   "cell_type": "code",
   "execution_count": 15,
   "metadata": {
    "colab": {
     "base_uri": "https://localhost:8080/"
    },
    "executionInfo": {
     "elapsed": 9858,
     "status": "ok",
     "timestamp": 1604671323792,
     "user": {
      "displayName": "André Fonseca",
      "photoUrl": "",
      "userId": "12545155089174621642"
     },
     "user_tz": 180
    },
    "id": "R4x4w-aG1C-1",
    "outputId": "4b0a97ce-ea6f-40a0-84eb-86da6c7eb794"
   },
   "outputs": [
    {
     "data": {
      "text/html": [
       "<div>\n",
       "<style scoped>\n",
       "    .dataframe tbody tr th:only-of-type {\n",
       "        vertical-align: middle;\n",
       "    }\n",
       "\n",
       "    .dataframe tbody tr th {\n",
       "        vertical-align: top;\n",
       "    }\n",
       "\n",
       "    .dataframe thead th {\n",
       "        text-align: right;\n",
       "    }\n",
       "</style>\n",
       "<table border=\"1\" class=\"dataframe\">\n",
       "  <thead>\n",
       "    <tr style=\"text-align: right;\">\n",
       "      <th></th>\n",
       "      <th>sig_id</th>\n",
       "      <th>5-alpha_reductase_inhibitor</th>\n",
       "      <th>11-beta-hsd1_inhibitor</th>\n",
       "      <th>acat_inhibitor</th>\n",
       "      <th>acetylcholine_receptor_agonist</th>\n",
       "      <th>acetylcholine_receptor_antagonist</th>\n",
       "      <th>acetylcholinesterase_inhibitor</th>\n",
       "      <th>adenosine_receptor_agonist</th>\n",
       "      <th>adenosine_receptor_antagonist</th>\n",
       "      <th>adenylyl_cyclase_activator</th>\n",
       "      <th>...</th>\n",
       "      <th>tropomyosin_receptor_kinase_inhibitor</th>\n",
       "      <th>trpv_agonist</th>\n",
       "      <th>trpv_antagonist</th>\n",
       "      <th>tubulin_inhibitor</th>\n",
       "      <th>tyrosine_kinase_inhibitor</th>\n",
       "      <th>ubiquitin_specific_protease_inhibitor</th>\n",
       "      <th>vegfr_inhibitor</th>\n",
       "      <th>vitamin_b</th>\n",
       "      <th>vitamin_d_receptor_agonist</th>\n",
       "      <th>wnt_inhibitor</th>\n",
       "    </tr>\n",
       "  </thead>\n",
       "  <tbody>\n",
       "    <tr>\n",
       "      <th>0</th>\n",
       "      <td>id_0004d9e33</td>\n",
       "      <td>0.5</td>\n",
       "      <td>0.5</td>\n",
       "      <td>0.5</td>\n",
       "      <td>0.5</td>\n",
       "      <td>0.5</td>\n",
       "      <td>0.5</td>\n",
       "      <td>0.5</td>\n",
       "      <td>0.5</td>\n",
       "      <td>0.5</td>\n",
       "      <td>...</td>\n",
       "      <td>0.5</td>\n",
       "      <td>0.5</td>\n",
       "      <td>0.5</td>\n",
       "      <td>0.5</td>\n",
       "      <td>0.5</td>\n",
       "      <td>0.5</td>\n",
       "      <td>0.5</td>\n",
       "      <td>0.5</td>\n",
       "      <td>0.5</td>\n",
       "      <td>0.5</td>\n",
       "    </tr>\n",
       "  </tbody>\n",
       "</table>\n",
       "<p>1 rows × 207 columns</p>\n",
       "</div>"
      ],
      "text/plain": [
       "         sig_id  5-alpha_reductase_inhibitor  11-beta-hsd1_inhibitor  \\\n",
       "0  id_0004d9e33                          0.5                     0.5   \n",
       "\n",
       "   acat_inhibitor  acetylcholine_receptor_agonist  \\\n",
       "0             0.5                             0.5   \n",
       "\n",
       "   acetylcholine_receptor_antagonist  acetylcholinesterase_inhibitor  \\\n",
       "0                                0.5                             0.5   \n",
       "\n",
       "   adenosine_receptor_agonist  adenosine_receptor_antagonist  \\\n",
       "0                         0.5                            0.5   \n",
       "\n",
       "   adenylyl_cyclase_activator  ...  tropomyosin_receptor_kinase_inhibitor  \\\n",
       "0                         0.5  ...                                    0.5   \n",
       "\n",
       "   trpv_agonist  trpv_antagonist  tubulin_inhibitor  \\\n",
       "0           0.5              0.5                0.5   \n",
       "\n",
       "   tyrosine_kinase_inhibitor  ubiquitin_specific_protease_inhibitor  \\\n",
       "0                        0.5                                    0.5   \n",
       "\n",
       "   vegfr_inhibitor  vitamin_b  vitamin_d_receptor_agonist  wnt_inhibitor  \n",
       "0              0.5        0.5                         0.5            0.5  \n",
       "\n",
       "[1 rows x 207 columns]"
      ]
     },
     "execution_count": 15,
     "metadata": {},
     "output_type": "execute_result"
    }
   ],
   "source": [
    "sample_submission.head(1)"
   ]
  },
  {
   "cell_type": "markdown",
   "metadata": {
    "id": "21pjXMHFgKu7"
   },
   "source": [
    "# 3. Dataset description and plotting"
   ]
  },
  {
   "cell_type": "markdown",
   "metadata": {
    "id": "cyj8B467pShk"
   },
   "source": [
    "## 3.1. Training set statistics and dimension "
   ]
  },
  {
   "cell_type": "code",
   "execution_count": null,
   "metadata": {
    "colab": {
     "base_uri": "https://localhost:8080/"
    },
    "executionInfo": {
     "elapsed": 974,
     "status": "ok",
     "timestamp": 1604580132420,
     "user": {
      "displayName": "André Fonseca",
      "photoUrl": "",
      "userId": "12545155089174621642"
     },
     "user_tz": 180
    },
    "id": "hnyWx2DMgKu8",
    "outputId": "93f3e54a-8880-4fcf-8278-81bb7be0923e"
   },
   "outputs": [],
   "source": [
    "cell_columns = [col for col in train_features.columns if col.startswith('c-')]\n",
    "gene_columns = [col for col in train_features.columns if col.startswith('g-')]\n",
    "\n",
    "n_cell = len(cell_columns)\n",
    "n_gene = len(gene_columns)\n",
    "\n",
    "print(f'Número de células {n_cell} e números de genes {n_gene} avaliados no estudo.')"
   ]
  },
  {
   "cell_type": "code",
   "execution_count": null,
   "metadata": {
    "colab": {
     "base_uri": "https://localhost:8080/"
    },
    "executionInfo": {
     "elapsed": 904,
     "status": "ok",
     "timestamp": 1604580134909,
     "user": {
      "displayName": "André Fonseca",
      "photoUrl": "",
      "userId": "12545155089174621642"
     },
     "user_tz": 180
    },
    "id": "76n2u3WVgKvA",
    "outputId": "55a2cdc2-78d1-4f0e-df2f-ca61cb9f80f5"
   },
   "outputs": [],
   "source": [
    "samples, features = train_features.shape\n",
    "print(f'O conjunto de dados têm {samples} e {features} amostras e atributos, respectivamente.')"
   ]
  },
  {
   "cell_type": "code",
   "execution_count": null,
   "metadata": {
    "collapsed": true,
    "id": "g8z5awGWntMb"
   },
   "outputs": [],
   "source": [
    "treatment = train_features.groupby('cp_type').size().reset_index(name = 'counts')\n",
    "dosage = train_features.groupby(['cp_type', 'cp_dose']).size().reset_index(name='counts')\n",
    "time = train_features.groupby(['cp_type', 'cp_time']).size().reset_index(name='counts')"
   ]
  },
  {
   "cell_type": "code",
   "execution_count": null,
   "metadata": {
    "colab": {
     "base_uri": "https://localhost:8080/",
     "height": 469
    },
    "executionInfo": {
     "elapsed": 4655,
     "status": "ok",
     "timestamp": 1604580141951,
     "user": {
      "displayName": "André Fonseca",
      "photoUrl": "",
      "userId": "12545155089174621642"
     },
     "user_tz": 180
    },
    "id": "91J7IUExO0Hm",
    "outputId": "a4cced1f-3f54-4a94-9fce-950405ef05c9"
   },
   "outputs": [],
   "source": [
    "sns.set(style = \"white\", palette = \"pastel\", font_scale = 1.5, color_codes = True)\n",
    "fig, (ax1, ax2, ax3) = plt.subplots(1, 3, figsize = (35, 8), dpi = 300)\n",
    "\n",
    "sns.barplot(x = \"cp_type\", y = \"counts\", data = treatment, ax = ax1)\n",
    "sns.barplot(x = \"cp_type\", y = \"counts\", hue = 'cp_dose', data = dosage, ax = ax2)\n",
    "sns.barplot(x = \"cp_type\", y = \"counts\", hue = 'cp_time', data = time, ax = ax3)\n",
    "\n",
    "# Como remover tiulo de todos os eixos X"
   ]
  },
  {
   "cell_type": "markdown",
   "metadata": {
    "id": "i52BHOw0P8il"
   },
   "source": [
    "## 3.2. Verifying and summarising labels"
   ]
  },
  {
   "cell_type": "code",
   "execution_count": null,
   "metadata": {
    "collapsed": true,
    "id": "QglNEDynNWDJ"
   },
   "outputs": [],
   "source": [
    "n_pathways = [pathway for pathway in train_targets_sc.columns if pathway != \"sig_id\"]"
   ]
  },
  {
   "cell_type": "code",
   "execution_count": null,
   "metadata": {
    "colab": {
     "base_uri": "https://localhost:8080/"
    },
    "executionInfo": {
     "elapsed": 712,
     "status": "ok",
     "timestamp": 1604580450016,
     "user": {
      "displayName": "André Fonseca",
      "photoUrl": "",
      "userId": "12545155089174621642"
     },
     "user_tz": 180
    },
    "id": "KcQ6jYZAOOhS",
    "outputId": "ffccdceb-a5ab-4ec1-ffb8-81b249e2b869"
   },
   "outputs": [],
   "source": [
    "print(f'Number of evaluate pathways {len(n_pathways)}')"
   ]
  },
  {
   "cell_type": "code",
   "execution_count": null,
   "metadata": {
    "collapsed": true,
    "id": "87OKVTn_38MX"
   },
   "outputs": [],
   "source": [
    "train_sc_pivot = pd.melt(train_targets_sc, id_vars=['sig_id'], value_vars = n_pathways, var_name = 'pathways', value_name = 'counts')"
   ]
  },
  {
   "cell_type": "code",
   "execution_count": null,
   "metadata": {
    "collapsed": true,
    "id": "uZedonC16cwL"
   },
   "outputs": [],
   "source": [
    "train_sc_pivot = train_sc_pivot[train_sc_pivot['counts'] > 0]"
   ]
  },
  {
   "cell_type": "code",
   "execution_count": null,
   "metadata": {
    "collapsed": true,
    "id": "Cll7hANm6VHF"
   },
   "outputs": [],
   "source": [
    "train_classes = train_sc_pivot.groupby('pathways').sum().reset_index()\n",
    "train_classes = train_classes.sort_values('counts')"
   ]
  },
  {
   "cell_type": "markdown",
   "metadata": {
    "id": "7FeaIwDFdt3J"
   },
   "source": [
    "### Is it really a multi-label problem?"
   ]
  },
  {
   "cell_type": "code",
   "execution_count": null,
   "metadata": {
    "collapsed": true,
    "id": "GdJ3JLGC6XPP"
   },
   "outputs": [],
   "source": [
    "pathway_head = train_classes['pathways'].head(10)\n",
    "pathway_tail = train_classes['pathways'].tail(10)"
   ]
  },
  {
   "cell_type": "code",
   "execution_count": null,
   "metadata": {
    "colab": {
     "base_uri": "https://localhost:8080/"
    },
    "executionInfo": {
     "elapsed": 485,
     "status": "ok",
     "timestamp": 1604580453355,
     "user": {
      "displayName": "André Fonseca",
      "photoUrl": "",
      "userId": "12545155089174621642"
     },
     "user_tz": 180
    },
    "id": "ejrXQ0rh7LeL",
    "outputId": "3a197a17-2fba-422c-9cd2-c469fa2379f2"
   },
   "outputs": [],
   "source": [
    "pathway_subset = pd.concat([pathway_head, pathway_tail])\n",
    "len(pathway_subset)"
   ]
  },
  {
   "cell_type": "code",
   "execution_count": null,
   "metadata": {
    "collapsed": true,
    "id": "wo8rT82h8wcw"
   },
   "outputs": [],
   "source": [
    "random.seed(10)\n",
    "sample_subset = random.sample(list(train_sc_pivot.sig_id), 50)"
   ]
  },
  {
   "cell_type": "code",
   "execution_count": null,
   "metadata": {
    "collapsed": true,
    "id": "y6cjPmXT24JZ"
   },
   "outputs": [],
   "source": [
    "train_sc_pathway = train_sc_pivot[train_sc_pivot['pathways'].isin(pathway_subset)]"
   ]
  },
  {
   "cell_type": "code",
   "execution_count": null,
   "metadata": {
    "collapsed": true,
    "id": "9EVFT1kDvswR"
   },
   "outputs": [],
   "source": [
    "train_sc_pathway = train_sc_pathway[train_sc_pathway['sig_id'].isin(sample_subset)]"
   ]
  },
  {
   "cell_type": "code",
   "execution_count": null,
   "metadata": {
    "collapsed": true,
    "id": "HEoTIt5mNKWL"
   },
   "outputs": [],
   "source": [
    "path_short = train_sc_pathway.pathways.unique()\n",
    "path_label = [path.split('_')[0].capitalize() for path in path_short]"
   ]
  },
  {
   "cell_type": "code",
   "execution_count": null,
   "metadata": {
    "collapsed": true,
    "id": "yJ5OK0Rfyi6S"
   },
   "outputs": [],
   "source": [
    "sample_id = train_sc_pathway.sig_id.unique()"
   ]
  },
  {
   "cell_type": "markdown",
   "metadata": {
    "id": "wmQLCpC3aAqe"
   },
   "source": [
    "### All treatments activated multiples MoAs?"
   ]
  },
  {
   "cell_type": "code",
   "execution_count": null,
   "metadata": {
    "collapsed": true,
    "id": "GUEn2MYrX8Uy"
   },
   "outputs": [],
   "source": [
    "treatment_n_pathway = train_sc_pivot.groupby('sig_id').size().reset_index(name = 'MoAs')\n",
    "treatment_n_pathway['MoAs'] = treatment_n_pathway['MoAs'].map(lambda x: '>5' if x >= 5 else x)\n",
    "treatment_n_pathway = treatment_n_pathway.groupby('MoAs').size().reset_index(name = 'counts')"
   ]
  },
  {
   "cell_type": "code",
   "execution_count": null,
   "metadata": {
    "collapsed": true,
    "id": "AwG3YbUxuUME"
   },
   "outputs": [],
   "source": [
    "treatment_n_pathway['normalize'] = treatment_n_pathway['counts'] / sum(treatment_n_pathway['counts'])"
   ]
  },
  {
   "cell_type": "markdown",
   "metadata": {
    "id": "y3wZb5MYf0xF"
   },
   "source": [
    "### Is there a MoAs that occur more frequently?"
   ]
  },
  {
   "cell_type": "code",
   "execution_count": null,
   "metadata": {
    "collapsed": true,
    "id": "nOMAbkwUcuiN"
   },
   "outputs": [],
   "source": [
    "train_classes['log10'] = np.log10(train_classes['counts'])\n",
    "train_classes['ngroup'] = pd.qcut(train_classes['log10'], q = 20, labels = range(1, 21))"
   ]
  },
  {
   "cell_type": "code",
   "execution_count": null,
   "metadata": {
    "colab": {
     "base_uri": "https://localhost:8080/"
    },
    "executionInfo": {
     "elapsed": 2681,
     "status": "ok",
     "timestamp": 1604580457207,
     "user": {
      "displayName": "André Fonseca",
      "photoUrl": "",
      "userId": "12545155089174621642"
     },
     "user_tz": 180
    },
    "id": "1nud05vX7GBK",
    "outputId": "cb374099-2b80-487f-f3c2-06cc3a89c3a8"
   },
   "outputs": [],
   "source": [
    "plt.figure(figsize=(20, 16))\n",
    "sns.set_style(\"whitegrid\")\n",
    "\n",
    "#\n",
    "plt.subplot(1, 2, 1)\n",
    "sns.scatterplot(x = \"pathways\", y = \"sig_id\", data = train_sc_pathway, s=200, color = '.2')\n",
    "\n",
    "plt.xticks(path_short, path_label, rotation = 90)\n",
    "plt.xlabel('MoA Pathways')\n",
    "\n",
    "plt.yticks(sample_id, range(0, len(sample_id) + 1), fontsize = 10)\n",
    "plt.ylabel('Treatments')\n",
    "\n",
    "#\n",
    "plt.subplot(2, 2, 2)\n",
    "moa_barplot = sns.barplot(x = 'MoAs', y = 'normalize', data = treatment_n_pathway)\n",
    "for p in moa_barplot.patches:\n",
    "    moa_barplot.annotate(format(p.get_height() * 14447 , '.1f'), \n",
    "                   (p.get_x() + p.get_width() / 2., p.get_height()), \n",
    "                   ha = 'center', va = 'center', \n",
    "                   xytext = (0, 9), \n",
    "                   textcoords = 'offset points')\n",
    "plt.ylabel('Treatments (%)')\n",
    "plt.xlabel('# of MoAs')\n",
    "\n",
    "#\n",
    "plt.subplot(2, 2, 4)\n",
    "sns.barplot(x = 'ngroup', y = 'counts', data = train_classes, palette='viridis')\n",
    "plt.ylabel('# of Treatments')\n",
    "plt.xlabel('MoA bins based on frequency')\n",
    "\n",
    "plt.tight_layout()\n",
    "plt.show()"
   ]
  },
  {
   "cell_type": "markdown",
   "metadata": {
    "id": "OJmENpe84XX0"
   },
   "source": [
    "***Is it really a multi-label problem?*** A: Yes, it is!\n",
    "\n",
    "***All treatments activated multiples MoAs?***\n",
    "A: Virtually all treatments are MoA-specific, which means that most of the drugs are acting in a single metabolic pathway per assay.\n",
    "\n",
    "***Is there a MoAs that occur more frequently?***\n",
    "A: There is a predominance of drug trials that act on a small group of metabolic pathways, such as NFKB and proteasome."
   ]
  },
  {
   "cell_type": "markdown",
   "metadata": {},
   "source": [
    "## 3.3 Labels to Network"
   ]
  },
  {
   "cell_type": "code",
   "execution_count": 16,
   "metadata": {
    "collapsed": true
   },
   "outputs": [],
   "source": [
    "from skmultilearn.cluster import LabelCooccurrenceGraphBuilder"
   ]
  },
  {
   "cell_type": "code",
   "execution_count": 25,
   "metadata": {
    "collapsed": true
   },
   "outputs": [],
   "source": [
    "X_train = train_features.drop('sig_id', axis = 1)\n",
    "X_train = pd.get_dummies(X)"
   ]
  },
  {
   "cell_type": "code",
   "execution_count": 17,
   "metadata": {},
   "outputs": [],
   "source": [
    "y_train = train_targets_sc.drop('sig_id', axis = 1)\n",
    "label_names = y_train.columns"
   ]
  },
  {
   "cell_type": "code",
   "execution_count": 18,
   "metadata": {
    "collapsed": true
   },
   "outputs": [],
   "source": [
    "graph_builder = LabelCooccurrenceGraphBuilder(weighted=True, include_self_edges=False)"
   ]
  },
  {
   "cell_type": "code",
   "execution_count": 19,
   "metadata": {},
   "outputs": [
    {
     "name": "stdout",
     "output_type": "stream",
     "text": [
      "206 labels, 186 edges\n"
     ]
    }
   ],
   "source": [
    "edge_map = graph_builder.transform(y_train.values)\n",
    "print(\"{} labels, {} edges\".format(len(label_names), len(edge_map)))"
   ]
  },
  {
   "cell_type": "code",
   "execution_count": 20,
   "metadata": {},
   "outputs": [],
   "source": [
    "from skmultilearn.cluster import NetworkXLabelGraphClusterer"
   ]
  },
  {
   "cell_type": "code",
   "execution_count": 22,
   "metadata": {},
   "outputs": [],
   "source": [
    "def to_membership_vector(partition):\n",
    "    return {\n",
    "        member :  partition_id\n",
    "        for partition_id, members in enumerate(partition)\n",
    "        for member in members\n",
    "    }"
   ]
  },
  {
   "cell_type": "code",
   "execution_count": null,
   "metadata": {
    "collapsed": true
   },
   "outputs": [],
   "source": [
    "clusterer = NetworkXLabelGraphClusterer(graph_builder, method='louvain')"
   ]
  },
  {
   "cell_type": "code",
   "execution_count": 27,
   "metadata": {},
   "outputs": [],
   "source": [
    "partition = clusterer.fit_predict(X_train, y_train.values)"
   ]
  },
  {
   "cell_type": "code",
   "execution_count": 28,
   "metadata": {
    "collapsed": true
   },
   "outputs": [],
   "source": [
    "membership_vector = to_membership_vector(partition)"
   ]
  },
  {
   "cell_type": "code",
   "execution_count": 29,
   "metadata": {},
   "outputs": [
    {
     "name": "stdout",
     "output_type": "stream",
     "text": [
      "There are 114 clusters\n"
     ]
    }
   ],
   "source": [
    "print('There are', len(partition),'clusters')"
   ]
  },
  {
   "cell_type": "code",
   "execution_count": 38,
   "metadata": {},
   "outputs": [
    {
     "data": {
      "text/plain": [
       "{0: 0,\n",
       " 1: 1,\n",
       " 2: 2,\n",
       " 3: 3,\n",
       " 4: 4,\n",
       " 5: 1,\n",
       " 6: 5,\n",
       " 7: 1,\n",
       " 8: 6,\n",
       " 9: 3,\n",
       " 10: 3,\n",
       " 11: 7,\n",
       " 12: 1,\n",
       " 13: 8,\n",
       " 14: 9,\n",
       " 15: 10,\n",
       " 16: 7,\n",
       " 17: 7,\n",
       " 18: 11,\n",
       " 19: 12,\n",
       " 20: 13,\n",
       " 21: 14,\n",
       " 22: 15,\n",
       " 23: 16,\n",
       " 24: 17,\n",
       " 25: 18,\n",
       " 26: 19,\n",
       " 27: 20,\n",
       " 28: 21,\n",
       " 29: 22,\n",
       " 30: 23,\n",
       " 31: 24,\n",
       " 32: 25,\n",
       " 33: 26,\n",
       " 34: 27,\n",
       " 35: 1,\n",
       " 36: 1,\n",
       " 37: 28,\n",
       " 38: 29,\n",
       " 39: 30,\n",
       " 40: 12,\n",
       " 41: 12,\n",
       " 42: 31,\n",
       " 43: 14,\n",
       " 44: 32,\n",
       " 45: 33,\n",
       " 46: 34,\n",
       " 47: 24,\n",
       " 48: 29,\n",
       " 49: 3,\n",
       " 50: 24,\n",
       " 51: 35,\n",
       " 52: 36,\n",
       " 53: 37,\n",
       " 54: 1,\n",
       " 55: 24,\n",
       " 56: 38,\n",
       " 57: 1,\n",
       " 58: 7,\n",
       " 59: 24,\n",
       " 60: 39,\n",
       " 61: 40,\n",
       " 62: 41,\n",
       " 63: 14,\n",
       " 64: 42,\n",
       " 65: 43,\n",
       " 66: 44,\n",
       " 67: 45,\n",
       " 68: 4,\n",
       " 69: 46,\n",
       " 70: 12,\n",
       " 71: 14,\n",
       " 72: 12,\n",
       " 73: 7,\n",
       " 74: 47,\n",
       " 75: 48,\n",
       " 76: 7,\n",
       " 77: 7,\n",
       " 78: 3,\n",
       " 79: 3,\n",
       " 80: 29,\n",
       " 81: 49,\n",
       " 82: 29,\n",
       " 83: 7,\n",
       " 84: 7,\n",
       " 85: 50,\n",
       " 86: 51,\n",
       " 87: 52,\n",
       " 88: 29,\n",
       " 89: 29,\n",
       " 90: 53,\n",
       " 91: 54,\n",
       " 92: 55,\n",
       " 93: 3,\n",
       " 94: 3,\n",
       " 95: 56,\n",
       " 96: 12,\n",
       " 97: 44,\n",
       " 98: 57,\n",
       " 99: 1,\n",
       " 100: 58,\n",
       " 101: 14,\n",
       " 102: 59,\n",
       " 103: 3,\n",
       " 104: 60,\n",
       " 105: 1,\n",
       " 106: 61,\n",
       " 107: 62,\n",
       " 108: 24,\n",
       " 109: 63,\n",
       " 110: 64,\n",
       " 111: 29,\n",
       " 112: 24,\n",
       " 113: 3,\n",
       " 114: 12,\n",
       " 115: 65,\n",
       " 116: 24,\n",
       " 117: 66,\n",
       " 118: 29,\n",
       " 119: 29,\n",
       " 120: 67,\n",
       " 121: 68,\n",
       " 122: 1,\n",
       " 123: 69,\n",
       " 124: 14,\n",
       " 125: 70,\n",
       " 126: 71,\n",
       " 127: 72,\n",
       " 128: 73,\n",
       " 129: 74,\n",
       " 130: 75,\n",
       " 131: 76,\n",
       " 132: 77,\n",
       " 133: 7,\n",
       " 134: 78,\n",
       " 135: 79,\n",
       " 136: 80,\n",
       " 137: 81,\n",
       " 138: 82,\n",
       " 139: 24,\n",
       " 140: 83,\n",
       " 141: 3,\n",
       " 142: 24,\n",
       " 143: 84,\n",
       " 144: 85,\n",
       " 145: 86,\n",
       " 146: 87,\n",
       " 147: 88,\n",
       " 148: 89,\n",
       " 149: 29,\n",
       " 150: 90,\n",
       " 151: 1,\n",
       " 152: 91,\n",
       " 153: 7,\n",
       " 154: 29,\n",
       " 155: 82,\n",
       " 156: 3,\n",
       " 157: 24,\n",
       " 158: 92,\n",
       " 159: 7,\n",
       " 160: 7,\n",
       " 161: 14,\n",
       " 162: 14,\n",
       " 163: 80,\n",
       " 164: 72,\n",
       " 165: 93,\n",
       " 166: 12,\n",
       " 167: 29,\n",
       " 168: 94,\n",
       " 169: 29,\n",
       " 170: 95,\n",
       " 171: 96,\n",
       " 172: 97,\n",
       " 173: 98,\n",
       " 174: 24,\n",
       " 175: 99,\n",
       " 176: 3,\n",
       " 177: 3,\n",
       " 178: 3,\n",
       " 179: 1,\n",
       " 180: 1,\n",
       " 181: 100,\n",
       " 182: 3,\n",
       " 183: 101,\n",
       " 184: 29,\n",
       " 185: 102,\n",
       " 186: 103,\n",
       " 187: 104,\n",
       " 188: 87,\n",
       " 189: 105,\n",
       " 190: 7,\n",
       " 191: 106,\n",
       " 192: 107,\n",
       " 193: 12,\n",
       " 194: 24,\n",
       " 195: 108,\n",
       " 196: 109,\n",
       " 197: 1,\n",
       " 198: 25,\n",
       " 199: 7,\n",
       " 200: 29,\n",
       " 201: 110,\n",
       " 202: 29,\n",
       " 203: 111,\n",
       " 204: 112,\n",
       " 205: 113}"
      ]
     },
     "execution_count": 38,
     "metadata": {},
     "output_type": "execute_result"
    }
   ],
   "source": [
    "membership_vector"
   ]
  },
  {
   "cell_type": "code",
   "execution_count": 34,
   "metadata": {},
   "outputs": [
    {
     "data": {
      "image/png": "[encoded data removed]",
      "text/plain": [
       "<Figure size 432x288 with 1 Axes>"
      ]
     },
     "metadata": {},
     "output_type": "display_data"
    }
   ],
   "source": [
    "names_dict = dict(enumerate(x for x in label_names))\n",
    "import matplotlib.pyplot as plt\n",
    "%matplotlib inline\n",
    "\n",
    "nx.draw(\n",
    "    clusterer.graph_,\n",
    "    pos=nx.spring_layout(clusterer.graph_, k=4),\n",
    "    labels=names_dict,\n",
    "    with_labels = True,\n",
    "    width = [10*x/y_train.shape[0] for x in clusterer.weights_['weight']],\n",
    "    node_color = [membership_vector[i] for i in range(y_train.shape[1])],\n",
    "    cmap=plt.cm.viridis,\n",
    "    node_size=250,\n",
    "    font_size=10,\n",
    "    font_color='white',\n",
    "    alpha=0.8\n",
    ")"
   ]
  },
  {
   "cell_type": "markdown",
   "metadata": {
    "id": "RfYUR3wOxeSr"
   },
   "source": [
    "## 3.4. More about labels..."
   ]
  },
  {
   "cell_type": "markdown",
   "metadata": {
    "id": "21QTAenMqT6P"
   },
   "source": [
    "### Are the classes unbalanced?"
   ]
  },
  {
   "cell_type": "code",
   "execution_count": null,
   "metadata": {
    "colab": {
     "base_uri": "https://localhost:8080/",
     "height": 167
    },
    "executionInfo": {
     "elapsed": 2151,
     "status": "error",
     "timestamp": 1604974610858,
     "user": {
      "displayName": "André Fonseca",
      "photoUrl": "",
      "userId": "12545155089174621642"
     },
     "user_tz": 180
    },
    "id": "rQOKebvixxnB",
    "outputId": "91bf432c-d624-4d4e-ac7d-a4f2820e6aff"
   },
   "outputs": [],
   "source": [
    "train_classes['percentage'] = (train_classes['counts'] * 100) / sum(train_classes['counts'])"
   ]
  },
  {
   "cell_type": "code",
   "execution_count": null,
   "metadata": {
    "colab": {
     "base_uri": "https://localhost:8080/",
     "height": 238
    },
    "executionInfo": {
     "elapsed": 2768,
     "status": "error",
     "timestamp": 1604974611492,
     "user": {
      "displayName": "André Fonseca",
      "photoUrl": "",
      "userId": "12545155089174621642"
     },
     "user_tz": 180
    },
    "id": "Cs2-3H_Oxbra",
    "outputId": "f28a2477-a18e-4272-a758-33fb585a283f"
   },
   "outputs": [],
   "source": [
    "plt.figure(figsize = (35, 8))\n",
    "sns.barplot(x = 'pathways', y = 'percentage', data = train_classes.tail(45))\n",
    "\n",
    "plt.title('MoA Frequecy - TOP 45')\n",
    "plt.xticks(rotation = 90)\n",
    "plt.xlabel('')\n",
    "plt.ylabel('Train set (%)')"
   ]
  },
  {
   "cell_type": "markdown",
   "metadata": {
    "id": "bsdnNCuazphI"
   },
   "source": [
    "### Is drug discovery biased to a chemical category?"
   ]
  },
  {
   "cell_type": "code",
   "execution_count": null,
   "metadata": {
    "collapsed": true,
    "executionInfo": {
     "elapsed": 2757,
     "status": "aborted",
     "timestamp": 1604974611485,
     "user": {
      "displayName": "André Fonseca",
      "photoUrl": "",
      "userId": "12545155089174621642"
     },
     "user_tz": 180
    },
    "id": "JFo4mUp_zo0D"
   },
   "outputs": [],
   "source": [
    "train_classes['drug_category'] = train_classes['pathways'].map(lambda x: x.split('_')[-1])"
   ]
  },
  {
   "cell_type": "code",
   "execution_count": null,
   "metadata": {
    "collapsed": true,
    "executionInfo": {
     "elapsed": 2750,
     "status": "aborted",
     "timestamp": 1604974611487,
     "user": {
      "displayName": "André Fonseca",
      "photoUrl": "",
      "userId": "12545155089174621642"
     },
     "user_tz": 180
    },
    "id": "9qwlDc-D0pEw"
   },
   "outputs": [],
   "source": [
    "train_category_counts = train_classes.groupby('drug_category').size().reset_index(name = 'counts')\n",
    "train_category_counts.describe().T"
   ]
  },
  {
   "cell_type": "code",
   "execution_count": null,
   "metadata": {
    "collapsed": true,
    "executionInfo": {
     "elapsed": 2748,
     "status": "aborted",
     "timestamp": 1604974611488,
     "user": {
      "displayName": "André Fonseca",
      "photoUrl": "",
      "userId": "12545155089174621642"
     },
     "user_tz": 180
    },
    "id": "j-3q2jbh4tX1"
   },
   "outputs": [],
   "source": [
    "train_category_counts['percentage'] = (train_category_counts['counts'] * 100) / sum(train_category_counts['counts'])\n",
    "train_category_counts = train_category_counts.sort_values('percentage')"
   ]
  },
  {
   "cell_type": "code",
   "execution_count": null,
   "metadata": {
    "collapsed": true,
    "executionInfo": {
     "elapsed": 2745,
     "status": "aborted",
     "timestamp": 1604974611490,
     "user": {
      "displayName": "André Fonseca",
      "photoUrl": "",
      "userId": "12545155089174621642"
     },
     "user_tz": 180
    },
    "id": "Y5QGng4G08Lc"
   },
   "outputs": [],
   "source": [
    "plt.figure(figsize = (35, 8))\n",
    "sns.barplot(x = 'drug_category', y = 'percentage', data = train_category_counts)\n",
    "plt.xticks(rotation = 90)\n",
    "\n",
    "plt.ylabel('Drugs category (%)')\n",
    "plt.xlabel('')"
   ]
  },
  {
   "cell_type": "markdown",
   "metadata": {
    "id": "uz3hc7W1ZBwm"
   },
   "source": [
    "# 4. Overall patterns and features correlations"
   ]
  },
  {
   "cell_type": "markdown",
   "metadata": {
    "id": "-dQA3Uv-M-nE"
   },
   "source": [
    "## 4.1. Gene and cell viability correlations"
   ]
  },
  {
   "cell_type": "code",
   "execution_count": null,
   "metadata": {
    "collapsed": true,
    "id": "XbotpNd-gKvX"
   },
   "outputs": [],
   "source": [
    "# Compute the gene correlation matrix\n",
    "\n",
    "gene_matrix = train[gene_columns]\n",
    "gene_correlation = gene_matrix.corr()\n",
    "\n",
    "# Compute the cell correlation matrix\n",
    "\n",
    "cell_matrix = train[cell_columns]\n",
    "cell_correlation = cell_matrix.corr()"
   ]
  },
  {
   "cell_type": "code",
   "execution_count": null,
   "metadata": {
    "colab": {
     "base_uri": "https://localhost:8080/"
    },
    "executionInfo": {
     "elapsed": 34148,
     "status": "ok",
     "timestamp": 1604580491202,
     "user": {
      "displayName": "André Fonseca",
      "photoUrl": "",
      "userId": "12545155089174621642"
     },
     "user_tz": 180
    },
    "id": "IDZetMwKgKvj",
    "outputId": "575de776-fb29-4ddb-cf09-06ee329f8fec"
   },
   "outputs": [],
   "source": [
    "plt.figure(figsize = (35, 22))\n",
    "sns.set_style(\"whitegrid\")\n",
    "\n",
    "#\n",
    "plt.subplot(1, 2, 1)\n",
    "\n",
    "# Generate a mask for the upper triangle\n",
    "mask = np.triu(np.ones_like(gene_correlation.iloc[0:50, 0:50], dtype=bool))\n",
    "\n",
    "# Generate a custom diverging colormap\n",
    "cmap = sns.diverging_palette(230, 20, as_cmap=True)\n",
    "\n",
    "# Draw the heatmap with the mask and correct aspect ratio\n",
    "sns.heatmap(gene_correlation.iloc[0:50, 0:50], mask = mask, cmap = cmap, vmax = 0.3, center = 0,\n",
    "            square = True, linewidths = 0.5, cbar_kws={\"shrink\": .5})\n",
    "plt.title('Gene correlation (TOP 50)')\n",
    "\n",
    "#\n",
    "plt.subplot(1, 2, 2)\n",
    "\n",
    "mask = np.triu(np.ones_like(cell_correlation, dtype=bool))\n",
    "cmap = sns.diverging_palette(230, 20, as_cmap=True)\n",
    "\n",
    "sns.heatmap(cell_correlation, mask = mask, cmap = cmap, vmax = 0.3, center = 0,\n",
    "            square = True, linewidths = 0.5, cbar_kws={\"shrink\": .5})\n",
    "plt.title('Cells correlation (All)')"
   ]
  },
  {
   "cell_type": "markdown",
   "metadata": {
    "id": "Q6myEgbXtkWR"
   },
   "source": [
    "## 4.2. Double-checking cell viability distribution"
   ]
  },
  {
   "cell_type": "code",
   "execution_count": null,
   "metadata": {
    "collapsed": true,
    "id": "kwZIT3jBzEgp"
   },
   "outputs": [],
   "source": [
    "random.seed(10)\n",
    "\n",
    "cell_subset = random.sample(cell_columns, 10)\n",
    "cell_matrix_subset = train.loc[:, ['cp_type'] + cell_subset]"
   ]
  },
  {
   "cell_type": "code",
   "execution_count": null,
   "metadata": {
    "colab": {
     "base_uri": "https://localhost:8080/",
     "output_embedded_package_id": "1SNWL4Xpuyay0GdzYP6mgI369oidwqrEK"
    },
    "executionInfo": {
     "elapsed": 243367,
     "status": "ok",
     "timestamp": 1604580700431,
     "user": {
      "displayName": "André Fonseca",
      "photoUrl": "",
      "userId": "12545155089174621642"
     },
     "user_tz": 180
    },
    "id": "sNjvD1LL6HQW",
    "outputId": "e0ba672d-321e-4b01-a6ed-35d56a658af5"
   },
   "outputs": [],
   "source": [
    "g = sns.pairplot(cell_matrix_subset, hue = 'cp_type', plot_kws={'alpha':0.1}) \n",
    "g.fig.suptitle(\"Cell viability distribution\", y=1.08)"
   ]
  },
  {
   "cell_type": "markdown",
   "metadata": {
    "id": "iWHqZvsMgKvW"
   },
   "source": [
    "# 5. Feature selection based on MoA"
   ]
  },
  {
   "cell_type": "code",
   "execution_count": null,
   "metadata": {
    "colab": {
     "base_uri": "https://localhost:8080/",
     "height": 146
    },
    "executionInfo": {
     "elapsed": 1001,
     "status": "ok",
     "timestamp": 1604582725548,
     "user": {
      "displayName": "André Fonseca",
      "photoUrl": "",
      "userId": "12545155089174621642"
     },
     "user_tz": 180
    },
    "id": "0hGNMVqZM-Fe",
    "outputId": "d8bd117d-2133-4c4f-dd86-0519238b611e"
   },
   "outputs": [],
   "source": [
    "train_gene_matrix = train[['sig_id'] + gene_columns]\n",
    "train_gene_matrix.head(1)"
   ]
  },
  {
   "cell_type": "code",
   "execution_count": null,
   "metadata": {
    "collapsed": true,
    "id": "1QN1JSkRD2eh"
   },
   "outputs": [],
   "source": [
    "train_gene_matrix = pd.merge(train_gene_matrix, train_sc_pivot[['sig_id', 'pathways']], on='sig_id')\n",
    "train_gene_matrix = train_gene_matrix.sort_values('pathways')"
   ]
  },
  {
   "cell_type": "markdown",
   "metadata": {
    "id": "MsOAsjbVIBvh"
   },
   "source": [
    "## 5.1. The treatment and other categorical features change gene expression per MoA?"
   ]
  },
  {
   "cell_type": "code",
   "execution_count": null,
   "metadata": {
    "collapsed": true,
    "id": "JWBqMQluIeq6"
   },
   "outputs": [],
   "source": []
  },
  {
   "cell_type": "markdown",
   "metadata": {
    "id": "PDtgkh31c8-X"
   },
   "source": [
    "## 5.2. Clustering gene expression per MoA"
   ]
  },
  {
   "cell_type": "code",
   "execution_count": null,
   "metadata": {
    "collapsed": true,
    "id": "iwOn4wftPO86"
   },
   "outputs": [],
   "source": [
    "train_pathway_matrix = train_gene_matrix.drop(columns = 'sig_id', axis = 1)\n",
    "train_pathway_matrix = train_pathway_matrix.groupby(['pathways']).mean()"
   ]
  },
  {
   "cell_type": "code",
   "execution_count": null,
   "metadata": {
    "colab": {
     "base_uri": "https://localhost:8080/",
     "height": 1000
    },
    "executionInfo": {
     "elapsed": 7012,
     "status": "ok",
     "timestamp": 1604582741657,
     "user": {
      "displayName": "André Fonseca",
      "photoUrl": "",
      "userId": "12545155089174621642"
     },
     "user_tz": 180
    },
    "id": "DOiNBcGgRwj6",
    "outputId": "e6d0780d-9f0d-4a75-818d-c026b1d9bfa5"
   },
   "outputs": [],
   "source": [
    "sns.clustermap(train_pathway_matrix, z_score = 1, figsize = (30, 20), cmap = \"viridis\")\n",
    "plt.title('Gene expression profile', loc = 'center');"
   ]
  },
  {
   "cell_type": "markdown",
   "metadata": {
    "id": "wVyDM4EegKv8"
   },
   "source": [
    "# 6. Dimensionality Reduction - PCA"
   ]
  },
  {
   "cell_type": "code",
   "execution_count": null,
   "metadata": {
    "colab": {
     "base_uri": "https://localhost:8080/",
     "height": 185
    },
    "executionInfo": {
     "elapsed": 1355,
     "status": "error",
     "timestamp": 1604950891593,
     "user": {
      "displayName": "André Fonseca",
      "photoUrl": "",
      "userId": "12545155089174621642"
     },
     "user_tz": 180
    },
    "id": "9g12ZW7WifjF",
    "outputId": "cdc4ce78-cf55-428c-9e4b-96fc97c54894"
   },
   "outputs": [],
   "source": [
    "train_gene_matrix = train[['sig_id', 'cp_type', 'cp_time', 'cp_dose'] + gene_columns]\n",
    "train_gene_matrix = pd.merge(train_gene_matrix, train_sc_pivot[['sig_id', 'pathways']], on='sig_id')"
   ]
  },
  {
   "cell_type": "code",
   "execution_count": null,
   "metadata": {
    "colab": {
     "base_uri": "https://localhost:8080/",
     "height": 220
    },
    "executionInfo": {
     "elapsed": 750,
     "status": "error",
     "timestamp": 1604950892061,
     "user": {
      "displayName": "André Fonseca",
      "photoUrl": "",
      "userId": "12545155089174621642"
     },
     "user_tz": 180
    },
    "id": "WgueKcPkgKwA",
    "outputId": "fdccc467-8432-42d9-8bad-2c6a13bfb76b"
   },
   "outputs": [],
   "source": [
    "scaler = StandardScaler()\n",
    "\n",
    "gene_scale = train_gene_matrix[gene_columns]\n",
    "gene_scale = scaler.fit_transform(gene_scale)"
   ]
  },
  {
   "cell_type": "code",
   "execution_count": null,
   "metadata": {
    "collapsed": true,
    "id": "ln2ktIRj8Wpj"
   },
   "outputs": [],
   "source": [
    "number_of_pc = 5\n",
    "pc_name = [f'PC_{i}' for i in range(1, number_of_pc + 1)]\n",
    "\n",
    "pca = PCA(n_components = number_of_pc)\n",
    "principal_components = pca.fit_transform(gene_scale)"
   ]
  },
  {
   "cell_type": "code",
   "execution_count": null,
   "metadata": {
    "collapsed": true,
    "id": "zM05L7hikNoN"
   },
   "outputs": [],
   "source": [
    "pca_components = pd.DataFrame(data = principal_components, columns = pc_name)"
   ]
  },
  {
   "cell_type": "code",
   "execution_count": null,
   "metadata": {
    "collapsed": true,
    "id": "obTaIptveu6e"
   },
   "outputs": [],
   "source": [
    "pca_explained = pd.DataFrame({'variance': pca.explained_variance_ratio_*100,\n",
    "                      'components': pc_name})"
   ]
  },
  {
   "cell_type": "markdown",
   "metadata": {
    "id": "vjww-bEu_5GY"
   },
   "source": [
    "## 6.1. Explained variance per principal component"
   ]
  },
  {
   "cell_type": "code",
   "execution_count": null,
   "metadata": {
    "colab": {
     "base_uri": "https://localhost:8080/",
     "height": 619
    },
    "executionInfo": {
     "elapsed": 1365,
     "status": "ok",
     "timestamp": 1604583371883,
     "user": {
      "displayName": "André Fonseca",
      "photoUrl": "",
      "userId": "12545155089174621642"
     },
     "user_tz": 180
    },
    "id": "ilbR7aRXfTF3",
    "outputId": "f09e0a99-75fc-4d47-8cc1-fb2f3ab85c59"
   },
   "outputs": [],
   "source": [
    "plt.figure(figsize = (20, 10))\n",
    "sns.barplot(x='components', y = \"variance\", data = pca_explained, color = \"c\")\n",
    "\n",
    "plt.xlabel('')\n",
    "plt.ylabel('Explained Variance (%)')"
   ]
  },
  {
   "cell_type": "code",
   "execution_count": null,
   "metadata": {
    "colab": {
     "base_uri": "https://localhost:8080/",
     "height": 80
    },
    "executionInfo": {
     "elapsed": 763,
     "status": "ok",
     "timestamp": 1604583372878,
     "user": {
      "displayName": "André Fonseca",
      "photoUrl": "",
      "userId": "12545155089174621642"
     },
     "user_tz": 180
    },
    "id": "uzTV4ZXagKwE",
    "outputId": "0dfd6721-363d-4c09-aefb-57a705bc2511"
   },
   "outputs": [],
   "source": [
    "pca_components['category'] = train_gene_matrix['pathways'].map(lambda x: x.split('_')[-1])\n",
    "pca_components['is_nfkb'] = train_gene_matrix['pathways'].map(lambda x: True if x == 'nfkb_inhibitor' else False)\n",
    "# Verificar\n",
    "\n",
    "categorical = set(['cp_type', 'cp_time', 'cp_dose'])\n",
    "for col in categorical:\n",
    "  pca_components[col] = train_gene_matrix[col]\n",
    "\n",
    "pca_components.head(1)"
   ]
  },
  {
   "cell_type": "markdown",
   "metadata": {
    "id": "TnKA4VpuAC2n"
   },
   "source": [
    "## 6.2. Are the PCs associated with any categorical feature?"
   ]
  },
  {
   "cell_type": "code",
   "execution_count": null,
   "metadata": {
    "colab": {
     "base_uri": "https://localhost:8080/",
     "height": 551
    },
    "executionInfo": {
     "elapsed": 5890,
     "status": "ok",
     "timestamp": 1604583379310,
     "user": {
      "displayName": "André Fonseca",
      "photoUrl": "",
      "userId": "12545155089174621642"
     },
     "user_tz": 180
    },
    "id": "PjoX3Vsfkhn9",
    "outputId": "d75a89f3-fb80-4e49-97dc-b2ee5241f2b2"
   },
   "outputs": [],
   "source": [
    "fig, (ax1, ax2, ax3) = plt.subplots(1, 3, figsize = (35, 10))\n",
    "fig.suptitle('Gene PCA per category')\n",
    "\n",
    "sns.scatterplot(x = \"PC_1\", y = \"PC_2\", \n",
    "          data = pca_components, hue = 'cp_dose', # color by cluster \n",
    "          legend = True, s = 80, ax = ax1) # specify the point size\n",
    "\n",
    "sns.scatterplot(x = \"PC_1\", y = \"PC_2\", \n",
    "          data = pca_components, hue = 'cp_time', # color by cluster \n",
    "          legend = True, s = 80, ax = ax2) # specify the point size\n",
    "\n",
    "c = sns.scatterplot(x = \"PC_1\", y = \"PC_2\", \n",
    "          data = pca_components, hue = 'is_nfkb', # color by cluster \n",
    "          legend = True, s = 80, ax = ax3) # specify the point size\n",
    "\n",
    "c.legend(loc = 'center left', bbox_to_anchor = (1.25, 0.5), ncol = 1);"
   ]
  },
  {
   "cell_type": "markdown",
   "metadata": {
    "id": "C8FidjBX_r95"
   },
   "source": [
    "## 6.3. Gene contributions in the PCs"
   ]
  },
  {
   "cell_type": "code",
   "execution_count": null,
   "metadata": {
    "colab": {
     "base_uri": "https://localhost:8080/"
    },
    "executionInfo": {
     "elapsed": 974,
     "status": "ok",
     "timestamp": 1604583391409,
     "user": {
      "displayName": "André Fonseca",
      "photoUrl": "",
      "userId": "12545155089174621642"
     },
     "user_tz": 180
    },
    "id": "M7EzGvkI_oho",
    "outputId": "57f43bed-2b0e-41e0-e969-acf2ca2ae0cf"
   },
   "outputs": [],
   "source": [
    "# Como plotar a importancia dos genes?\n",
    "for n, gene in  enumerate(pca.components_, start = 1):\n",
    "  print(n, gene)"
   ]
  },
  {
   "cell_type": "markdown",
   "metadata": {
    "id": "y6oPuVafCBVG"
   },
   "source": [
    "# 7. Dimensionality Reduction - t-SNE"
   ]
  },
  {
   "cell_type": "code",
   "execution_count": null,
   "metadata": {
    "collapsed": true,
    "id": "5pwCCgmhCAZz"
   },
   "outputs": [],
   "source": [
    "from sklearn.manifold import TSNE\n",
    "\n",
    "tsne = TSNE(n_components = 2, random_state = 0)\n",
    "tsne_obj = tsne.fit_transform(gene_scale)"
   ]
  },
  {
   "cell_type": "code",
   "execution_count": null,
   "metadata": {
    "colab": {
     "base_uri": "https://localhost:8080/",
     "height": 204
    },
    "executionInfo": {
     "elapsed": 783448,
     "status": "ok",
     "timestamp": 1604584185534,
     "user": {
      "displayName": "André Fonseca",
      "photoUrl": "",
      "userId": "12545155089174621642"
     },
     "user_tz": 180
    },
    "id": "vc3vSZs1Mz_n",
    "outputId": "7be1b2fc-ca3e-475a-82b5-33b657edf352"
   },
   "outputs": [],
   "source": [
    "tsne_df = pd.DataFrame({'X':tsne_obj[:,0], 'Y':tsne_obj[:,1], \n",
    "                        'cp_time': train_gene_matrix['cp_time'],\n",
    "                        'cp_dose': train_gene_matrix['cp_dose'],\n",
    "                        'category': train_gene_matrix['pathways'].map(lambda x: x.split('_')[-1]),\n",
    "                        'is_nfkb': train_gene_matrix['pathways'].map(lambda x: True if x == 'nfkb_inhibitor' else False)\n",
    "                        })\n",
    "tsne_df.head()"
   ]
  },
  {
   "cell_type": "code",
   "execution_count": null,
   "metadata": {
    "colab": {
     "base_uri": "https://localhost:8080/",
     "height": 896
    },
    "executionInfo": {
     "elapsed": 784133,
     "status": "ok",
     "timestamp": 1604584188204,
     "user": {
      "displayName": "André Fonseca",
      "photoUrl": "",
      "userId": "12545155089174621642"
     },
     "user_tz": 180
    },
    "id": "v-K_HjMQM9Ak",
    "outputId": "72ffc8e8-6f42-4093-f4c2-d711e1a42c1f"
   },
   "outputs": [],
   "source": [
    "plt.figure(figsize = (20, 15))\n",
    "\n",
    "t = sns.scatterplot(x = \"X\", y = \"Y\", hue = 'is_nfkb', data = tsne_df);\n",
    "t.legend(loc = 'center left', bbox_to_anchor = (1.25, 0.5), ncol = 1);"
   ]
  },
  {
   "cell_type": "code",
   "execution_count": null,
   "metadata": {
    "collapsed": true
   },
   "outputs": [],
   "source": [
    "#Plotting feature importance\n",
    "# sklearn.feature_selection.VarianceThreshold"
   ]
  }
 ],
 "metadata": {
  "colab": {
   "collapsed_sections": [
    "Hl-Up2oEgKug",
    "21pjXMHFgKu7",
    "cyj8B467pShk",
    "i52BHOw0P8il",
    "7FeaIwDFdt3J",
    "wmQLCpC3aAqe",
    "y3wZb5MYf0xF",
    "RfYUR3wOxeSr",
    "21QTAenMqT6P",
    "bsdnNCuazphI",
    "uz3hc7W1ZBwm",
    "-dQA3Uv-M-nE",
    "Q6myEgbXtkWR",
    "y6oPuVafCBVG",
    "BBzi0GOHxQCL",
    "zFolV0_Rm_wl"
   ],
   "name": "MoA.ipynb",
   "provenance": []
  },
  "kernelspec": {
   "display_name": "Python 3",
   "language": "python",
   "name": "python3"
  },
  "language_info": {
   "codemirror_mode": {
    "name": "ipython",
    "version": 3
   },
   "file_extension": ".py",
   "mimetype": "text/x-python",
   "name": "python",
   "nbconvert_exporter": "python",
   "pygments_lexer": "ipython3",
   "version": "3.6.7"
  }
 },
 "nbformat": 4,
 "nbformat_minor": 1
}
