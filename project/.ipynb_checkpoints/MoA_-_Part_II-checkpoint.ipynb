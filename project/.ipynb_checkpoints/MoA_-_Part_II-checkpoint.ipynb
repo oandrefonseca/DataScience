{
 "cells": [
  {
   "cell_type": "markdown",
   "metadata": {
    "id": "MvgjmxzxiDTS"
   },
   "source": [
    "# André Fonseca\n",
    "# Trabalho de conclusão do Data Science - Awari\n",
    "# Análise derivado do LISH-MoA\n",
    "## https://www.kaggle.com/c/lish-moa/overview"
   ]
  },
  {
   "cell_type": "markdown",
   "metadata": {
    "id": "pVvKSr8GTyr-"
   },
   "source": [
    "# 1. Import modules"
   ]
  },
  {
   "cell_type": "code",
   "execution_count": null,
   "metadata": {
    "colab": {
     "base_uri": "https://localhost:8080/"
    },
    "id": "N0gq63bQpcpM",
    "outputId": "b45b914c-b9d6-4324-88c2-03960fe16def"
   },
   "outputs": [],
   "source": [
    "!pip install scikit-multilearn"
   ]
  },
  {
   "cell_type": "code",
   "execution_count": 2,
   "metadata": {
    "collapsed": true,
    "id": "bbJCBmSFh2Xs"
   },
   "outputs": [],
   "source": [
    "# Basic\n",
    "import pandas as pd\n",
    "import numpy as np\n",
    "import seaborn as sns\n",
    "import matplotlib.pyplot as plt\n",
    "from sklearn.pipeline import Pipeline\n",
    "\n",
    "# Dump\n",
    "import pickle\n",
    "\n",
    "# Pre-processing\n",
    "from sklearn.model_selection import train_test_split\n",
    "from skmultilearn.model_selection import iterative_stratification as stratify\n",
    "\n",
    "# Models\n",
    "from sklearn.linear_model import LogisticRegression\n",
    "from sklearn.multiclass import OneVsRestClassifier\n",
    "from skmultilearn.problem_transform import LabelPowerset\n",
    "from sklearn.ensemble import RandomForestClassifier\n",
    "from skmultilearn.problem_transform import BinaryRelevance\n",
    "\n",
    "from skmultilearn.adapt import MLkNN\n",
    "\n",
    "from skmultilearn.ensemble import LabelSpacePartitioningClassifier\n",
    "\n",
    "\n",
    "# Optimization\n",
    "from sklearn.model_selection import GridSearchCV\n",
    "\n",
    "# Evaluation\n",
    "from sklearn.metrics import hamming_loss\n",
    "from sklearn.metrics import log_loss\n",
    "from sklearn.model_selection import cross_val_score\n",
    "from sklearn.metrics import accuracy_score"
   ]
  },
  {
   "cell_type": "code",
   "execution_count": 3,
   "metadata": {
    "colab": {
     "base_uri": "https://localhost:8080/"
    },
    "id": "QrjRS-H_iI1_",
    "outputId": "4ed27c3e-3b7c-4b81-8733-e634f454512e"
   },
   "outputs": [
    {
     "ename": "ModuleNotFoundError",
     "evalue": "No module named 'google.colab'",
     "output_type": "error",
     "traceback": [
      "\u001b[0;31m---------------------------------------------------------------------------\u001b[0m",
      "\u001b[0;31mModuleNotFoundError\u001b[0m                       Traceback (most recent call last)",
      "\u001b[0;32m<ipython-input-3-fc2b4561b498>\u001b[0m in \u001b[0;36m<module>\u001b[0;34m()\u001b[0m\n\u001b[0;32m----> 1\u001b[0;31m \u001b[0;32mfrom\u001b[0m \u001b[0mgoogle\u001b[0m\u001b[0;34m.\u001b[0m\u001b[0mcolab\u001b[0m \u001b[0;32mimport\u001b[0m \u001b[0mdrive\u001b[0m\u001b[0;34m\u001b[0m\u001b[0;34m\u001b[0m\u001b[0m\n\u001b[0m\u001b[1;32m      2\u001b[0m \u001b[0mdrive\u001b[0m\u001b[0;34m.\u001b[0m\u001b[0mmount\u001b[0m\u001b[0;34m(\u001b[0m\u001b[0;34m'/content/drive'\u001b[0m\u001b[0;34m)\u001b[0m\u001b[0;34m\u001b[0m\u001b[0;34m\u001b[0m\u001b[0m\n",
      "\u001b[0;31mModuleNotFoundError\u001b[0m: No module named 'google.colab'"
     ]
    }
   ],
   "source": [
    "from google.colab import drive\n",
    "drive.mount('/content/drive')"
   ]
  },
  {
   "cell_type": "markdown",
   "metadata": {
    "id": "xL8KLEUGiJL_"
   },
   "source": [
    "# 2. Loading dataset"
   ]
  },
  {
   "cell_type": "code",
   "execution_count": 4,
   "metadata": {
    "collapsed": true,
    "id": "ZV34-UmYgKu0"
   },
   "outputs": [],
   "source": [
    "# Loading X data\n",
    "train_features = pd.read_csv(\"./data/train_features.csv\")\n",
    "test_features = pd.read_csv(\"./data/test_features.csv\")"
   ]
  },
  {
   "cell_type": "code",
   "execution_count": 5,
   "metadata": {
    "collapsed": true,
    "id": "zGnR5N9fhL9n"
   },
   "outputs": [],
   "source": [
    "# Loading Y data\n",
    "train_targets_sc = pd.read_csv(\"./data/train_targets_scored.csv\")\n",
    "train_targets_ns = pd.read_csv(\"./data/train_targets_nonscored.csv\")"
   ]
  },
  {
   "cell_type": "code",
   "execution_count": 7,
   "metadata": {
    "collapsed": true,
    "id": "ZWpVNImYgKu4"
   },
   "outputs": [],
   "source": [
    "sample_submission = pd.read_csv(\"./data/sample_submission.csv\")"
   ]
  },
  {
   "cell_type": "markdown",
   "metadata": {
    "id": "HVbluuIHjVU3"
   },
   "source": [
    "## 2.1. Preparing dataset to Machine Learning"
   ]
  },
  {
   "cell_type": "code",
   "execution_count": 8,
   "metadata": {
    "collapsed": true,
    "id": "LMdozwKeXuQZ"
   },
   "outputs": [],
   "source": [
    "X = train_features.drop('sig_id', axis = 1)\n",
    "X = pd.get_dummies(X)"
   ]
  },
  {
   "cell_type": "code",
   "execution_count": 9,
   "metadata": {
    "collapsed": true,
    "id": "PknvpooUpAZF"
   },
   "outputs": [],
   "source": [
    "y = train_targets_sc.drop('sig_id', axis = 1)"
   ]
  },
  {
   "cell_type": "markdown",
   "metadata": {
    "id": "X91ZOR3vXtiV"
   },
   "source": [
    "## 2.2. Building a validation test"
   ]
  },
  {
   "cell_type": "code",
   "execution_count": 10,
   "metadata": {
    "collapsed": true,
    "id": "rz2331obkdGs"
   },
   "outputs": [],
   "source": [
    "X_train, X_val, y_train, y_val = train_test_split(X, y, random_state = 42) # stratify = y"
   ]
  },
  {
   "cell_type": "markdown",
   "metadata": {
    "id": "R4fJAjrbo7MC"
   },
   "source": [
    "# 3. Multi-labels models"
   ]
  },
  {
   "cell_type": "markdown",
   "metadata": {},
   "source": [
    "### Problem Transformation approaches\n",
    "* One-vs-Rest - Logistic Regression\n",
    "* LabelPowerSet - Logistic Regression\n",
    "* BinaryRelevance - Random Forest\n",
    "\n",
    "### Algorithm Adaptation approaches\n",
    "* multi-label adapted kNN\n",
    "* multi-label adapted kNN + Cross-Validation\n",
    "\n",
    "### Ensembles of Classifiers\n",
    "* LabelSpacePartitioningClassifier"
   ]
  },
  {
   "cell_type": "markdown",
   "metadata": {
    "id": "HvcMHsx8p2yF"
   },
   "source": [
    "## 3.1. One-vs-Rest"
   ]
  },
  {
   "cell_type": "code",
   "execution_count": null,
   "metadata": {
    "collapsed": true,
    "id": "qK__RdXIBiqy"
   },
   "outputs": [],
   "source": [
    "moa_category, moa_logistic, moa_accuracy = y_train.columns, [], []"
   ]
  },
  {
   "cell_type": "code",
   "execution_count": null,
   "metadata": {
    "collapsed": true,
    "id": "lcgMy7uIBGFS"
   },
   "outputs": [],
   "source": [
    "%%time\n",
    "LogReg_pipeline = Pipeline([('classifier', OneVsRestClassifier(LogisticRegression(solver = 'sag'), n_jobs = -1)), ])"
   ]
  },
  {
   "cell_type": "code",
   "execution_count": null,
   "metadata": {
    "collapsed": true,
    "id": "i7wFAZe8BPRV"
   },
   "outputs": [],
   "source": [
    "for category in moa_category:\n",
    "  try:\n",
    "    LogReg_pipeline.fit(X_train, y_train[category])\n",
    "  except:\n",
    "    print(\"Error!\")\n",
    "  \n",
    "  y_pred = LogReg_pipeline.predict(X_val)\n",
    "  score = accuracy_score(y_val[category], y_pred)\n",
    "\n",
    "  moa_accuracy.append(score)\n",
    "  moa_category.append(category)"
   ]
  },
  {
   "cell_type": "code",
   "execution_count": null,
   "metadata": {
    "collapsed": true,
    "id": "clw9D_1SZGev"
   },
   "outputs": [],
   "source": [
    "log_one_vs_rest = pd.DataFrame({'MoA': moa_category, 'accuracy': moa_accuracy})"
   ]
  },
  {
   "cell_type": "code",
   "execution_count": null,
   "metadata": {
    "collapsed": true,
    "id": "GhKK4I-Rc9-q"
   },
   "outputs": [],
   "source": [
    "log_one_vs_rest.head(10)"
   ]
  },
  {
   "cell_type": "code",
   "execution_count": null,
   "metadata": {
    "collapsed": true,
    "id": "qmPPdTvjbMcg"
   },
   "outputs": [],
   "source": [
    "log_one_vs_rest.to_csv(\"./data/log_one_vs_rest.csv\", index = False)"
   ]
  },
  {
   "cell_type": "markdown",
   "metadata": {
    "id": "WOr5gi5AzQN3"
   },
   "source": [
    "## 3.2. LabelPowerSet"
   ]
  },
  {
   "cell_type": "markdown",
   "metadata": {},
   "source": [
    "Label Powerset is a problem transformation approach to multi-label classification that transforms a multi-label problem to a multi-class problem with 1 multi-class classifier trained on all unique label combinations found in the training data."
   ]
  },
  {
   "cell_type": "code",
   "execution_count": null,
   "metadata": {
    "collapsed": true,
    "id": "fxAdNt8MkhKw"
   },
   "outputs": [],
   "source": [
    "power = LabelPowerset(LogisticRegression())"
   ]
  },
  {
   "cell_type": "code",
   "execution_count": null,
   "metadata": {
    "colab": {
     "base_uri": "https://localhost:8080/"
    },
    "id": "gYaCPUpSkws6",
    "outputId": "2074509e-aebd-42b8-fb3b-c5925585fad2"
   },
   "outputs": [],
   "source": [
    "%%time\n",
    "power.fit(X_train, y_train)"
   ]
  },
  {
   "cell_type": "code",
   "execution_count": null,
   "metadata": {
    "collapsed": true,
    "id": "gEyrVeHFkpnB"
   },
   "outputs": [],
   "source": [
    "y_pred = power.predict(X_val)"
   ]
  },
  {
   "cell_type": "code",
   "execution_count": null,
   "metadata": {
    "collapsed": true,
    "id": "RuGawyNIvnx8"
   },
   "outputs": [],
   "source": [
    "y_prob = power.predict_proba(X_val)"
   ]
  },
  {
   "cell_type": "code",
   "execution_count": null,
   "metadata": {
    "collapsed": true,
    "id": "934_PifNzNAS"
   },
   "outputs": [],
   "source": [
    "y_prob_array = y_prob.toarray()"
   ]
  },
  {
   "cell_type": "code",
   "execution_count": null,
   "metadata": {
    "collapsed": true,
    "id": "JRNG7RcSknF_"
   },
   "outputs": [],
   "source": [
    "accuracy_score = accuracy_score(y_val.values, y_pred)"
   ]
  },
  {
   "cell_type": "code",
   "execution_count": null,
   "metadata": {
    "colab": {
     "base_uri": "https://localhost:8080/"
    },
    "id": "MltaKkyao_nS",
    "outputId": "a220c387-df1c-439d-ad32-93b9ecb487c7"
   },
   "outputs": [],
   "source": [
    "print(f'Accuracy score: {accuracy_score}')"
   ]
  },
  {
   "cell_type": "code",
   "execution_count": null,
   "metadata": {
    "collapsed": true,
    "id": "ltGsa4M-vhH1"
   },
   "outputs": [],
   "source": [
    "logging_score = log_loss(y_val.values, y_prob_array)"
   ]
  },
  {
   "cell_type": "code",
   "execution_count": null,
   "metadata": {
    "colab": {
     "base_uri": "https://localhost:8080/"
    },
    "id": "4oZejD-VvjFi",
    "outputId": "5331e25e-72de-404f-a87e-d8b4d2fb52f0"
   },
   "outputs": [],
   "source": [
    "print(f'Log-loss score: {logging_score}')"
   ]
  },
  {
   "cell_type": "code",
   "execution_count": null,
   "metadata": {},
   "outputs": [],
   "source": [
    "hamming_loss = hamming_loss(y_val.values, y_pred)"
   ]
  },
  {
   "cell_type": "code",
   "execution_count": null,
   "metadata": {},
   "outputs": [],
   "source": [
    "print(f'Hamming-loss score: {hamming_loss}')"
   ]
  },
  {
   "cell_type": "code",
   "execution_count": null,
   "metadata": {
    "collapsed": true,
    "id": "JfWnRMeIpAGp"
   },
   "outputs": [],
   "source": [
    "with open('./data/power_model.pkl','wb') as outfile:\n",
    "  pickle.dump(power, outfile)"
   ]
  },
  {
   "cell_type": "markdown",
   "metadata": {},
   "source": [
    "## 3.3. BinaryRelevance"
   ]
  },
  {
   "cell_type": "code",
   "execution_count": null,
   "metadata": {},
   "outputs": [],
   "source": [
    "br = BinaryRelevance(\n",
    "    classifier = RandomForestClassifier(),\n",
    "    require_dense = [False, True]\n",
    ")"
   ]
  },
  {
   "cell_type": "code",
   "execution_count": null,
   "metadata": {
    "collapsed": true
   },
   "outputs": [],
   "source": [
    "%%time\n",
    "br.fit(X_train, y_train)"
   ]
  },
  {
   "cell_type": "code",
   "execution_count": null,
   "metadata": {
    "collapsed": true
   },
   "outputs": [],
   "source": [
    "y_pred = br.predict(X_val)"
   ]
  },
  {
   "cell_type": "code",
   "execution_count": null,
   "metadata": {
    "collapsed": true,
    "id": "PKx1oS7JZbZl"
   },
   "outputs": [],
   "source": [
    "y_prob = br.predict_proba(X_val)"
   ]
  },
  {
   "cell_type": "code",
   "execution_count": null,
   "metadata": {
    "collapsed": true,
    "id": "bW8Yp-JMelxh"
   },
   "outputs": [],
   "source": [
    "y_prob_array = y_prob.toarray()"
   ]
  },
  {
   "cell_type": "code",
   "execution_count": null,
   "metadata": {
    "collapsed": true,
    "id": "JRNG7RcSknF_"
   },
   "outputs": [],
   "source": [
    "accuracy_score = accuracy_score(y_val.values, y_pred)"
   ]
  },
  {
   "cell_type": "code",
   "execution_count": null,
   "metadata": {
    "colab": {
     "base_uri": "https://localhost:8080/"
    },
    "collapsed": true,
    "id": "MltaKkyao_nS",
    "outputId": "a220c387-df1c-439d-ad32-93b9ecb487c7"
   },
   "outputs": [],
   "source": [
    "print(f'Accuracy score: {accuracy_score}')"
   ]
  },
  {
   "cell_type": "code",
   "execution_count": null,
   "metadata": {
    "collapsed": true,
    "id": "ltGsa4M-vhH1"
   },
   "outputs": [],
   "source": [
    "logging_score = log_loss(y_val.values, y_prob_array)"
   ]
  },
  {
   "cell_type": "code",
   "execution_count": null,
   "metadata": {
    "colab": {
     "base_uri": "https://localhost:8080/"
    },
    "collapsed": true,
    "id": "4oZejD-VvjFi",
    "outputId": "5331e25e-72de-404f-a87e-d8b4d2fb52f0"
   },
   "outputs": [],
   "source": [
    "print(f'Log-loss score: {logging_score}')"
   ]
  },
  {
   "cell_type": "code",
   "execution_count": null,
   "metadata": {
    "collapsed": true
   },
   "outputs": [],
   "source": [
    "hamming_loss = hamming_loss(y_val.values, y_pred)"
   ]
  },
  {
   "cell_type": "code",
   "execution_count": null,
   "metadata": {
    "collapsed": true
   },
   "outputs": [],
   "source": [
    "print(f'Hamming-loss score: {hamming_loss}')"
   ]
  },
  {
   "cell_type": "code",
   "execution_count": null,
   "metadata": {
    "collapsed": true
   },
   "outputs": [],
   "source": [
    "with open('./data/binary_forest_classifier_model.pkl','wb') as outfile:\n",
    "  pickle.dump(br, outfile)"
   ]
  },
  {
   "cell_type": "markdown",
   "metadata": {
    "id": "unzMVb23Bown"
   },
   "source": [
    "## 3.4. multi-label adapted kNN"
   ]
  },
  {
   "cell_type": "code",
   "execution_count": null,
   "metadata": {
    "collapsed": true,
    "id": "HhsuDoF2zO93"
   },
   "outputs": [],
   "source": [
    "knn = MLkNN(k = 5)"
   ]
  },
  {
   "cell_type": "code",
   "execution_count": null,
   "metadata": {
    "colab": {
     "base_uri": "https://localhost:8080/"
    },
    "id": "RQSB68bGYtO0",
    "outputId": "45ffff57-214a-4187-ff33-b96e460d1641"
   },
   "outputs": [],
   "source": [
    "%%time\n",
    "knn.fit(X_train.values, y_train.values)"
   ]
  },
  {
   "cell_type": "code",
   "execution_count": null,
   "metadata": {
    "collapsed": true,
    "id": "e7MLIxRDe-8E"
   },
   "outputs": [],
   "source": [
    "y_pred = knn.predict(X_val)"
   ]
  },
  {
   "cell_type": "code",
   "execution_count": null,
   "metadata": {
    "collapsed": true,
    "id": "PKx1oS7JZbZl"
   },
   "outputs": [],
   "source": [
    "y_prob = knn.predict_proba(X_val)"
   ]
  },
  {
   "cell_type": "code",
   "execution_count": null,
   "metadata": {
    "collapsed": true,
    "id": "bW8Yp-JMelxh"
   },
   "outputs": [],
   "source": [
    "y_prob_array = y_prob.toarray()"
   ]
  },
  {
   "cell_type": "code",
   "execution_count": null,
   "metadata": {
    "id": "dZ--_7t0fynS"
   },
   "outputs": [],
   "source": [
    "accuracy_score = accuracy_score(y_val.values, y_pred)"
   ]
  },
  {
   "cell_type": "code",
   "execution_count": null,
   "metadata": {
    "colab": {
     "base_uri": "https://localhost:8080/"
    },
    "id": "XgnxCP9Mf9Rq",
    "outputId": "4956b4cd-fc79-43a0-df69-cbb076dfa734"
   },
   "outputs": [],
   "source": [
    "print(f'Accuracy score: {accuracy_score}')"
   ]
  },
  {
   "cell_type": "code",
   "execution_count": null,
   "metadata": {
    "collapsed": true,
    "id": "xsTzcf8EZfzd"
   },
   "outputs": [],
   "source": [
    "logging_score = log_loss(y_val.values, y_prob_array)"
   ]
  },
  {
   "cell_type": "code",
   "execution_count": null,
   "metadata": {
    "colab": {
     "base_uri": "https://localhost:8080/"
    },
    "id": "eZe8HeA2ZmKP",
    "outputId": "80af4063-a2c2-4134-f3eb-182ec68865c7"
   },
   "outputs": [],
   "source": [
    "print(f'Log-loss score: {logging_score}')"
   ]
  },
  {
   "cell_type": "code",
   "execution_count": null,
   "metadata": {},
   "outputs": [],
   "source": [
    "hamming_loss = hamming_loss(y_val.values, y_pred)"
   ]
  },
  {
   "cell_type": "code",
   "execution_count": null,
   "metadata": {
    "scrolled": true
   },
   "outputs": [],
   "source": [
    "print(f'Hamming-loss score: {hamming_loss}')"
   ]
  },
  {
   "cell_type": "code",
   "execution_count": null,
   "metadata": {
    "collapsed": true,
    "id": "QNYc5Dz3fS1o"
   },
   "outputs": [],
   "source": [
    "with open('./data/mlknn_model.pkl','wb') as outfile:\n",
    "  pickle.dump(knn, outfile)"
   ]
  },
  {
   "cell_type": "markdown",
   "metadata": {
    "id": "tuT2iiGzwTeL"
   },
   "source": [
    "## 3.5. multi-label adapted kNN + Cross-Validation"
   ]
  },
  {
   "cell_type": "code",
   "execution_count": 11,
   "metadata": {
    "id": "TWq5wl3ceeJM"
   },
   "outputs": [],
   "source": [
    "parameters = {'k': range(5, 10), 's': [0.5, 0.7, 1.0]}\n",
    "knn_grid = GridSearchCV(MLkNN(), parameters, scoring = 'log_loss')"
   ]
  },
  {
   "cell_type": "code",
   "execution_count": null,
   "metadata": {
    "collapsed": true
   },
   "outputs": [],
   "source": [
    "%%time\n",
    "knn_grid.fit(X_train.values, y_train.values)"
   ]
  },
  {
   "cell_type": "code",
   "execution_count": null,
   "metadata": {},
   "outputs": [],
   "source": [
    "print(f'best parameters: {knn_grid.best_params_} best score: {knn_grid.best_score_}')"
   ]
  },
  {
   "cell_type": "code",
   "execution_count": null,
   "metadata": {
    "collapsed": true
   },
   "outputs": [],
   "source": [
    "y_pred = knn_grid.predict(X_val)"
   ]
  },
  {
   "cell_type": "code",
   "execution_count": null,
   "metadata": {
    "collapsed": true,
    "id": "PKx1oS7JZbZl"
   },
   "outputs": [],
   "source": [
    "y_prob = knn_grid.predict_proba(X_val)"
   ]
  },
  {
   "cell_type": "code",
   "execution_count": null,
   "metadata": {
    "collapsed": true,
    "id": "bW8Yp-JMelxh"
   },
   "outputs": [],
   "source": [
    "y_prob_array = y_prob.toarray()"
   ]
  },
  {
   "cell_type": "code",
   "execution_count": null,
   "metadata": {
    "id": "dZ--_7t0fynS"
   },
   "outputs": [],
   "source": [
    "accuracy_score = accuracy_score(y_val.values, y_pred)"
   ]
  },
  {
   "cell_type": "code",
   "execution_count": null,
   "metadata": {
    "colab": {
     "base_uri": "https://localhost:8080/"
    },
    "id": "XgnxCP9Mf9Rq",
    "outputId": "4956b4cd-fc79-43a0-df69-cbb076dfa734"
   },
   "outputs": [],
   "source": [
    "print(f'Accuracy score: {accuracy_score}')"
   ]
  },
  {
   "cell_type": "code",
   "execution_count": null,
   "metadata": {
    "collapsed": true,
    "id": "xsTzcf8EZfzd"
   },
   "outputs": [],
   "source": [
    "logging_score = log_loss(y_val.values, y_prob_array)"
   ]
  },
  {
   "cell_type": "code",
   "execution_count": null,
   "metadata": {
    "colab": {
     "base_uri": "https://localhost:8080/"
    },
    "id": "eZe8HeA2ZmKP",
    "outputId": "80af4063-a2c2-4134-f3eb-182ec68865c7"
   },
   "outputs": [],
   "source": [
    "print(f'Log-loss score: {logging_score}')"
   ]
  },
  {
   "cell_type": "code",
   "execution_count": null,
   "metadata": {},
   "outputs": [],
   "source": [
    "hamming_loss = hamming_loss(y_val.values, y_pred)"
   ]
  },
  {
   "cell_type": "code",
   "execution_count": null,
   "metadata": {
    "scrolled": true
   },
   "outputs": [],
   "source": [
    "print(f'Hamming-loss score: {hamming_loss}')"
   ]
  },
  {
   "cell_type": "code",
   "execution_count": null,
   "metadata": {
    "collapsed": true
   },
   "outputs": [],
   "source": [
    "with open('./data/knn_classifier_model.pkl','wb') as outfile:\n",
    "  pickle.dump(classifier, outfile)"
   ]
  },
  {
   "cell_type": "markdown",
   "metadata": {
    "id": "tuT2iiGzwTeL"
   },
   "source": [
    "## 3.6. LabelSpacePartitioningClassifier"
   ]
  },
  {
   "cell_type": "code",
   "execution_count": null,
   "metadata": {
    "collapsed": true
   },
   "outputs": [],
   "source": [
    "# Load Clusterer object\n",
    "clusterer = pickle.load()"
   ]
  },
  {
   "cell_type": "code",
   "execution_count": null,
   "metadata": {
    "collapsed": true
   },
   "outputs": [],
   "source": [
    "lab_space = LabelSpacePartitioningClassifier(\n",
    "    classifier = BinaryRelevance(\n",
    "    classifier = RandomForestClassifier(),\n",
    "    require_dense = [False, True]\n",
    "    ),\n",
    "    clusterer  = clusterer\n",
    ")"
   ]
  },
  {
   "cell_type": "code",
   "execution_count": null,
   "metadata": {
    "collapsed": true
   },
   "outputs": [],
   "source": [
    "%%time\n",
    "lab_space.fit(X_train,y_train)"
   ]
  },
  {
   "cell_type": "code",
   "execution_count": null,
   "metadata": {
    "collapsed": true
   },
   "outputs": [],
   "source": [
    "y_pred = lab_space.predict(X_val)"
   ]
  },
  {
   "cell_type": "code",
   "execution_count": null,
   "metadata": {
    "collapsed": true,
    "id": "PKx1oS7JZbZl"
   },
   "outputs": [],
   "source": [
    "y_prob = lab_space.predict_proba(X_val)"
   ]
  },
  {
   "cell_type": "code",
   "execution_count": null,
   "metadata": {
    "collapsed": true,
    "id": "bW8Yp-JMelxh"
   },
   "outputs": [],
   "source": [
    "y_prob_array = y_prob.toarray()"
   ]
  },
  {
   "cell_type": "code",
   "execution_count": null,
   "metadata": {
    "id": "dZ--_7t0fynS"
   },
   "outputs": [],
   "source": [
    "accuracy_score = accuracy_score(y_val.values, y_pred)"
   ]
  },
  {
   "cell_type": "code",
   "execution_count": null,
   "metadata": {
    "colab": {
     "base_uri": "https://localhost:8080/"
    },
    "id": "XgnxCP9Mf9Rq",
    "outputId": "4956b4cd-fc79-43a0-df69-cbb076dfa734"
   },
   "outputs": [],
   "source": [
    "print(f'Accuracy score: {accuracy_score}')"
   ]
  },
  {
   "cell_type": "code",
   "execution_count": null,
   "metadata": {
    "collapsed": true,
    "id": "xsTzcf8EZfzd"
   },
   "outputs": [],
   "source": [
    "logging_score = log_loss(y_val.values, y_prob_array)"
   ]
  },
  {
   "cell_type": "code",
   "execution_count": null,
   "metadata": {
    "colab": {
     "base_uri": "https://localhost:8080/"
    },
    "id": "eZe8HeA2ZmKP",
    "outputId": "80af4063-a2c2-4134-f3eb-182ec68865c7"
   },
   "outputs": [],
   "source": [
    "print(f'Log-loss score: {logging_score}')"
   ]
  },
  {
   "cell_type": "code",
   "execution_count": null,
   "metadata": {},
   "outputs": [],
   "source": [
    "hamming_loss = hamming_loss(y_val.values, y_pred)"
   ]
  },
  {
   "cell_type": "code",
   "execution_count": null,
   "metadata": {
    "scrolled": true
   },
   "outputs": [],
   "source": [
    "print(f'Hamming-loss score: {hamming_loss}')"
   ]
  },
  {
   "cell_type": "code",
   "execution_count": null,
   "metadata": {
    "collapsed": true
   },
   "outputs": [],
   "source": [
    "with open('./data/lab_space.pkl','wb') as outfile:\n",
    "  pickle.dump(lab_space, outfile)"
   ]
  },
  {
   "cell_type": "code",
   "execution_count": null,
   "metadata": {
    "collapsed": true,
    "id": "TWq5wl3ceeJM"
   },
   "outputs": [],
   "source": [
    "# https://skml.readthedocs.io/en/latest/auto_examples/example_lp.html\n",
    "# https://xang1234.github.io/multi-label/"
   ]
  }
 ],
 "metadata": {
  "colab": {
   "collapsed_sections": [],
   "name": "MoA_-_Part_II.ipynb",
   "provenance": []
  },
  "kernelspec": {
   "display_name": "Python 3",
   "language": "python",
   "name": "python3"
  },
  "language_info": {
   "codemirror_mode": {
    "name": "ipython",
    "version": 3
   },
   "file_extension": ".py",
   "mimetype": "text/x-python",
   "name": "python",
   "nbconvert_exporter": "python",
   "pygments_lexer": "ipython3",
   "version": "3.6.7"
  }
 },
 "nbformat": 4,
 "nbformat_minor": 1
}
