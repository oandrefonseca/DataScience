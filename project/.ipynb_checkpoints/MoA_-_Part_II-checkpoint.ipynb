{
 "cells": [
  {
   "cell_type": "markdown",
   "metadata": {
    "id": "MvgjmxzxiDTS"
   },
   "source": [
    "# André Fonseca\n",
    "# Trabalho de conclusão do Data Science - Awari\n",
    "# Análise derivado do LISH-MOA\n",
    "## https://www.kaggle.com/c/lish-moa/overview"
   ]
  },
  {
   "cell_type": "markdown",
   "metadata": {
    "id": "pVvKSr8GTyr-"
   },
   "source": [
    "# 1. Import modules"
   ]
  },
  {
   "cell_type": "code",
   "execution_count": 1,
   "metadata": {
    "colab": {
     "base_uri": "https://localhost:8080/"
    },
    "id": "N0gq63bQpcpM",
    "outputId": "b45b914c-b9d6-4324-88c2-03960fe16def"
   },
   "outputs": [
    {
     "name": "stdout",
     "output_type": "stream",
     "text": [
      "Collecting scikit-multilearn\n",
      "\u001b[?25l  Downloading https://files.pythonhosted.org/packages/bb/1f/e6ff649c72a1cdf2c7a1d31eb21705110ce1c5d3e7e26b2cc300e1637272/scikit_multilearn-0.2.0-py3-none-any.whl (89kB)\n",
      "\u001b[K     |████████████████████████████████| 92kB 603kB/s eta 0:00:01\n",
      "\u001b[?25hInstalling collected packages: scikit-multilearn\n",
      "Successfully installed scikit-multilearn-0.2.0\n"
     ]
    }
   ],
   "source": [
    "!pip install scikit-multilearn"
   ]
  },
  {
   "cell_type": "code",
   "execution_count": 2,
   "metadata": {
    "collapsed": true,
    "id": "bbJCBmSFh2Xs"
   },
   "outputs": [],
   "source": [
    "# Basic\n",
    "import pandas as pd\n",
    "import numpy as np\n",
    "import seaborn as sns\n",
    "import matplotlib.pyplot as plt\n",
    "from sklearn.pipeline import Pipeline\n",
    "\n",
    "# Dump\n",
    "import pickle\n",
    "\n",
    "# Pre-processing\n",
    "from sklearn.model_selection import train_test_split\n",
    "from skmultilearn.model_selection import iterative_stratification as stratify\n",
    "\n",
    "# Models\n",
    "from sklearn.neighbors import KNeighborsClassifier\n",
    "from skmultilearn.adapt import MLkNN\n",
    "from sklearn.linear_model import LogisticRegression\n",
    "from sklearn.multiclass import OneVsRestClassifier\n",
    "from skmultilearn.problem_transform import LabelPowerset\n",
    "from sklearn.ensemble import RandomForestClassifier\n",
    "\n",
    "# Evaluation\n",
    "from sklearn.metrics import hamming_loss\n",
    "from sklearn.metrics import log_loss\n",
    "from sklearn.model_selection import cross_val_score\n",
    "from sklearn.metrics import accuracy_score"
   ]
  },
  {
   "cell_type": "code",
   "execution_count": 9,
   "metadata": {
    "colab": {
     "base_uri": "https://localhost:8080/"
    },
    "id": "QrjRS-H_iI1_",
    "outputId": "4ed27c3e-3b7c-4b81-8733-e634f454512e"
   },
   "outputs": [
    {
     "name": "stdout",
     "output_type": "stream",
     "text": [
      "Mounted at /content/drive\n"
     ]
    }
   ],
   "source": [
    "from google.colab import drive\n",
    "drive.mount('/content/drive')"
   ]
  },
  {
   "cell_type": "markdown",
   "metadata": {
    "id": "xL8KLEUGiJL_"
   },
   "source": [
    "# 2. Loading dataset"
   ]
  },
  {
   "cell_type": "code",
   "execution_count": 3,
   "metadata": {
    "collapsed": true,
    "id": "ZV34-UmYgKu0"
   },
   "outputs": [],
   "source": [
    "# Loading X data\n",
    "train_features = pd.read_csv(\"./data/train_features.csv\")\n",
    "test_features = pd.read_csv(\"./data/test_features.csv\")"
   ]
  },
  {
   "cell_type": "code",
   "execution_count": 4,
   "metadata": {
    "collapsed": true,
    "id": "zGnR5N9fhL9n"
   },
   "outputs": [],
   "source": [
    "# Loading Y data\n",
    "train_targets_sc = pd.read_csv(\"./data/train_targets_scored.csv\")\n",
    "train_targets_ns = pd.read_csv(\"./data/train_targets_nonscored.csv\")"
   ]
  },
  {
   "cell_type": "code",
   "execution_count": 5,
   "metadata": {
    "collapsed": true,
    "id": "ZWpVNImYgKu4"
   },
   "outputs": [],
   "source": [
    "sample_submission = pd.read_csv(\"./data/sample_submission.csv\")"
   ]
  },
  {
   "cell_type": "markdown",
   "metadata": {
    "id": "HVbluuIHjVU3"
   },
   "source": [
    "## 2.1. Preparing dataset to Machine Learning"
   ]
  },
  {
   "cell_type": "code",
   "execution_count": 6,
   "metadata": {
    "collapsed": true,
    "id": "LMdozwKeXuQZ"
   },
   "outputs": [],
   "source": [
    "X = train_features.drop('sig_id', axis = 1)\n",
    "X = pd.get_dummies(X)"
   ]
  },
  {
   "cell_type": "code",
   "execution_count": 7,
   "metadata": {
    "collapsed": true,
    "id": "PknvpooUpAZF"
   },
   "outputs": [],
   "source": [
    "y = train_targets_sc.drop('sig_id', axis = 1)"
   ]
  },
  {
   "cell_type": "markdown",
   "metadata": {
    "id": "X91ZOR3vXtiV"
   },
   "source": [
    "## 2.2. Building a validation test"
   ]
  },
  {
   "cell_type": "code",
   "execution_count": 8,
   "metadata": {
    "collapsed": true,
    "id": "rz2331obkdGs"
   },
   "outputs": [],
   "source": [
    "X_train, X_val, y_train, y_val = train_test_split(X, y, random_state = 42) # stratify = y"
   ]
  },
  {
   "cell_type": "markdown",
   "metadata": {
    "id": "R4fJAjrbo7MC"
   },
   "source": [
    "# 3. Baseline and advance models"
   ]
  },
  {
   "cell_type": "markdown",
   "metadata": {
    "id": "HvcMHsx8p2yF"
   },
   "source": [
    "## 3.1. Logistic Regression - One-vs-Rest"
   ]
  },
  {
   "cell_type": "code",
   "execution_count": 16,
   "metadata": {
    "collapsed": true,
    "id": "qK__RdXIBiqy"
   },
   "outputs": [],
   "source": [
    "moa_category, moa_logistic, moa_accuracy = y_train.columns, [], []"
   ]
  },
  {
   "cell_type": "code",
   "execution_count": 18,
   "metadata": {
    "collapsed": true,
    "id": "lcgMy7uIBGFS"
   },
   "outputs": [],
   "source": [
    "LogReg_pipeline = Pipeline([('classifier', OneVsRestClassifier(LogisticRegression(solver = 'sag'), n_jobs = -1)), ])"
   ]
  },
  {
   "cell_type": "code",
   "execution_count": null,
   "metadata": {
    "collapsed": true,
    "id": "i7wFAZe8BPRV"
   },
   "outputs": [],
   "source": [
    "for category in moa_category:\n",
    "  try:\n",
    "    LogReg_pipeline.fit(X_train, y_train[category])\n",
    "  except:\n",
    "    print(\"Error!\")\n",
    "  \n",
    "  y_pred = LogReg_pipeline.predict(X_val)\n",
    "  score = accuracy_score(y_val[category], y_pred)\n",
    "\n",
    "  moa_accuracy.append(score)\n",
    "  moa_category.append(category)"
   ]
  },
  {
   "cell_type": "code",
   "execution_count": null,
   "metadata": {
    "collapsed": true,
    "id": "clw9D_1SZGev"
   },
   "outputs": [],
   "source": [
    "log_one_vs_rest = pd.DataFrame({'MoA': moa_category, 'accuracy': moa_accuracy})"
   ]
  },
  {
   "cell_type": "code",
   "execution_count": null,
   "metadata": {
    "collapsed": true,
    "id": "GhKK4I-Rc9-q"
   },
   "outputs": [],
   "source": [
    "log_one_vs_rest.head(10)"
   ]
  },
  {
   "cell_type": "code",
   "execution_count": null,
   "metadata": {
    "collapsed": true,
    "id": "qmPPdTvjbMcg"
   },
   "outputs": [],
   "source": [
    "log_one_vs_rest.to_csv(\"./data/log_one_vs_rest.csv\", index = False)"
   ]
  },
  {
   "cell_type": "markdown",
   "metadata": {
    "id": "WOr5gi5AzQN3"
   },
   "source": [
    "## 3.2. LabelPowerSet"
   ]
  },
  {
   "cell_type": "markdown",
   "metadata": {},
   "source": [
    "Label Powerset is a problem transformation approach to multi-label classification that transforms a multi-label problem to a multi-class problem with 1 multi-class classifier trained on all unique label combinations found in the training data."
   ]
  },
  {
   "cell_type": "code",
   "execution_count": 9,
   "metadata": {
    "collapsed": true,
    "id": "fxAdNt8MkhKw"
   },
   "outputs": [],
   "source": [
    "power = LabelPowerset(LogisticRegression())"
   ]
  },
  {
   "cell_type": "code",
   "execution_count": 10,
   "metadata": {
    "colab": {
     "base_uri": "https://localhost:8080/"
    },
    "id": "gYaCPUpSkws6",
    "outputId": "2074509e-aebd-42b8-fb3b-c5925585fad2"
   },
   "outputs": [
    {
     "name": "stdout",
     "output_type": "stream",
     "text": [
      "CPU times: user 4min 42s, sys: 2min 32s, total: 7min 14s\n",
      "Wall time: 1min 11s\n"
     ]
    },
    {
     "name": "stderr",
     "output_type": "stream",
     "text": [
      "/home/andrefonseca/anaconda3/lib/python3.6/site-packages/sklearn/linear_model/_logistic.py:764: ConvergenceWarning: lbfgs failed to converge (status=1):\n",
      "STOP: TOTAL NO. of ITERATIONS REACHED LIMIT.\n",
      "\n",
      "Increase the number of iterations (max_iter) or scale the data as shown in:\n",
      "    https://scikit-learn.org/stable/modules/preprocessing.html\n",
      "Please also refer to the documentation for alternative solver options:\n",
      "    https://scikit-learn.org/stable/modules/linear_model.html#logistic-regression\n",
      "  extra_warning_msg=_LOGISTIC_SOLVER_CONVERGENCE_MSG)\n"
     ]
    },
    {
     "data": {
      "text/plain": [
       "LabelPowerset(classifier=LogisticRegression(), require_dense=[True, True])"
      ]
     },
     "execution_count": 10,
     "metadata": {},
     "output_type": "execute_result"
    }
   ],
   "source": [
    "%%time\n",
    "power.fit(X_train, y_train)"
   ]
  },
  {
   "cell_type": "code",
   "execution_count": 11,
   "metadata": {
    "collapsed": true,
    "id": "gEyrVeHFkpnB"
   },
   "outputs": [],
   "source": [
    "y_pred = power.predict(X_val)"
   ]
  },
  {
   "cell_type": "code",
   "execution_count": 12,
   "metadata": {
    "collapsed": true,
    "id": "RuGawyNIvnx8"
   },
   "outputs": [],
   "source": [
    "y_prob = power.predict_proba(X_val)"
   ]
  },
  {
   "cell_type": "code",
   "execution_count": 13,
   "metadata": {
    "collapsed": true,
    "id": "934_PifNzNAS"
   },
   "outputs": [],
   "source": [
    "y_prob_array = y_prob.toarray()"
   ]
  },
  {
   "cell_type": "code",
   "execution_count": 14,
   "metadata": {
    "collapsed": true,
    "id": "JRNG7RcSknF_"
   },
   "outputs": [],
   "source": [
    "accuracy_score = accuracy_score(y_val.values, y_pred)"
   ]
  },
  {
   "cell_type": "code",
   "execution_count": 15,
   "metadata": {
    "colab": {
     "base_uri": "https://localhost:8080/"
    },
    "id": "MltaKkyao_nS",
    "outputId": "a220c387-df1c-439d-ad32-93b9ecb487c7"
   },
   "outputs": [
    {
     "name": "stdout",
     "output_type": "stream",
     "text": [
      "Accuracy score: 0.4170305676855895\n"
     ]
    }
   ],
   "source": [
    "print(f'Accuracy score: {accuracy_score}')"
   ]
  },
  {
   "cell_type": "code",
   "execution_count": 16,
   "metadata": {
    "collapsed": true,
    "id": "ltGsa4M-vhH1"
   },
   "outputs": [],
   "source": [
    "logging_score = log_loss(y_val.values, y_prob_array)"
   ]
  },
  {
   "cell_type": "code",
   "execution_count": 17,
   "metadata": {
    "colab": {
     "base_uri": "https://localhost:8080/"
    },
    "id": "4oZejD-VvjFi",
    "outputId": "5331e25e-72de-404f-a87e-d8b4d2fb52f0"
   },
   "outputs": [
    {
     "name": "stdout",
     "output_type": "stream",
     "text": [
      "Log-loss score: 2.8554488823155726\n"
     ]
    }
   ],
   "source": [
    "print(f'Log-loss score: {logging_score}')"
   ]
  },
  {
   "cell_type": "code",
   "execution_count": 18,
   "metadata": {
    "collapsed": true,
    "id": "JfWnRMeIpAGp"
   },
   "outputs": [],
   "source": [
    "with open('./data/power_model.pkl','wb') as outfile:\n",
    "  pickle.dump(power, outfile)"
   ]
  },
  {
   "cell_type": "markdown",
   "metadata": {
    "id": "unzMVb23Bown"
   },
   "source": [
    "## 3.3. Adapted Algorithm"
   ]
  },
  {
   "cell_type": "code",
   "execution_count": 19,
   "metadata": {
    "collapsed": true,
    "id": "HhsuDoF2zO93"
   },
   "outputs": [],
   "source": [
    "knn = MLkNN(k = 50)"
   ]
  },
  {
   "cell_type": "code",
   "execution_count": 20,
   "metadata": {
    "colab": {
     "base_uri": "https://localhost:8080/"
    },
    "id": "RQSB68bGYtO0",
    "outputId": "45ffff57-214a-4187-ff33-b96e460d1641"
   },
   "outputs": [
    {
     "name": "stderr",
     "output_type": "stream",
     "text": [
      "/home/andrefonseca/anaconda3/lib/python3.6/site-packages/sklearn/utils/validation.py:70: FutureWarning: Pass n_neighbors=50 as keyword args. From version 0.25 passing these as positional arguments will result in an error\n",
      "  FutureWarning)\n"
     ]
    },
    {
     "name": "stdout",
     "output_type": "stream",
     "text": [
      "CPU times: user 9min 6s, sys: 697 ms, total: 9min 7s\n",
      "Wall time: 9min 8s\n"
     ]
    },
    {
     "data": {
      "text/plain": [
       "MLkNN(k=50)"
      ]
     },
     "execution_count": 20,
     "metadata": {},
     "output_type": "execute_result"
    }
   ],
   "source": [
    "%%time\n",
    "knn.fit(X_train.values, y_train.values)"
   ]
  },
  {
   "cell_type": "code",
   "execution_count": 21,
   "metadata": {
    "collapsed": true,
    "id": "e7MLIxRDe-8E"
   },
   "outputs": [],
   "source": [
    "y_pred = knn.predict(X_val)"
   ]
  },
  {
   "cell_type": "code",
   "execution_count": 22,
   "metadata": {
    "collapsed": true,
    "id": "PKx1oS7JZbZl"
   },
   "outputs": [],
   "source": [
    "y_prob = knn.predict_proba(X_val)"
   ]
  },
  {
   "cell_type": "code",
   "execution_count": 23,
   "metadata": {
    "collapsed": true,
    "id": "bW8Yp-JMelxh"
   },
   "outputs": [],
   "source": [
    "y_prob_array = y_prob.toarray()"
   ]
  },
  {
   "cell_type": "code",
   "execution_count": 24,
   "metadata": {
    "collapsed": true,
    "id": "xsTzcf8EZfzd"
   },
   "outputs": [],
   "source": [
    "logging_score = log_loss(y_val.values, y_prob_array)"
   ]
  },
  {
   "cell_type": "code",
   "execution_count": 25,
   "metadata": {
    "colab": {
     "base_uri": "https://localhost:8080/"
    },
    "id": "eZe8HeA2ZmKP",
    "outputId": "80af4063-a2c2-4134-f3eb-182ec68865c7"
   },
   "outputs": [
    {
     "name": "stdout",
     "output_type": "stream",
     "text": [
      "Log-loss score: 3.8471827277345967\n"
     ]
    }
   ],
   "source": [
    "print(f'Log-loss score: {logging_score}')"
   ]
  },
  {
   "cell_type": "code",
   "execution_count": 34,
   "metadata": {
    "id": "dZ--_7t0fynS"
   },
   "outputs": [
    {
     "ename": "TypeError",
     "evalue": "'numpy.float64' object is not callable",
     "output_type": "error",
     "traceback": [
      "\u001b[0;31m---------------------------------------------------------------------------\u001b[0m",
      "\u001b[0;31mTypeError\u001b[0m                                 Traceback (most recent call last)",
      "\u001b[0;32m<ipython-input-34-a0fe6cd0b6d9>\u001b[0m in \u001b[0;36m<module>\u001b[0;34m()\u001b[0m\n\u001b[0;32m----> 1\u001b[0;31m \u001b[0maccuracy_score\u001b[0m \u001b[0;34m=\u001b[0m \u001b[0maccuracy_score\u001b[0m\u001b[0;34m(\u001b[0m\u001b[0my_val\u001b[0m\u001b[0;34m.\u001b[0m\u001b[0mvalues\u001b[0m\u001b[0;34m,\u001b[0m \u001b[0my_pred\u001b[0m\u001b[0;34m)\u001b[0m\u001b[0;34m\u001b[0m\u001b[0;34m\u001b[0m\u001b[0m\n\u001b[0m",
      "\u001b[0;31mTypeError\u001b[0m: 'numpy.float64' object is not callable"
     ]
    }
   ],
   "source": [
    "accuracy_score = accuracy_score(y_val.values, y_pred)"
   ]
  },
  {
   "cell_type": "code",
   "execution_count": 35,
   "metadata": {
    "colab": {
     "base_uri": "https://localhost:8080/"
    },
    "id": "XgnxCP9Mf9Rq",
    "outputId": "4956b4cd-fc79-43a0-df69-cbb076dfa734"
   },
   "outputs": [
    {
     "name": "stdout",
     "output_type": "stream",
     "text": [
      "Accuracy score: 0.4170305676855895\n"
     ]
    }
   ],
   "source": [
    "print(f'Accuracy score: {accuracy_score}')"
   ]
  },
  {
   "cell_type": "code",
   "execution_count": 36,
   "metadata": {
    "collapsed": true,
    "id": "QNYc5Dz3fS1o"
   },
   "outputs": [],
   "source": [
    "with open('./data/mlknn_model.pkl','wb') as outfile:\n",
    "  pickle.dump(knn, outfile)"
   ]
  },
  {
   "cell_type": "markdown",
   "metadata": {
    "id": "riR2r5d-eVZS"
   },
   "source": [
    "## 3.5. Random Forest"
   ]
  },
  {
   "cell_type": "code",
   "execution_count": 38,
   "metadata": {
    "collapsed": true,
    "id": "j92DC9uZwP7S"
   },
   "outputs": [],
   "source": [
    "rfc = RandomForestClassifier()"
   ]
  },
  {
   "cell_type": "code",
   "execution_count": 39,
   "metadata": {
    "colab": {
     "base_uri": "https://localhost:8080/"
    },
    "id": "ho50IO90w1DY",
    "outputId": "88ff60ab-612b-40cd-9e3e-931278dac5d5"
   },
   "outputs": [
    {
     "name": "stdout",
     "output_type": "stream",
     "text": [
      "CPU times: user 5h 45min 35s, sys: 6.84 s, total: 5h 45min 42s\n",
      "Wall time: 5h 45min 50s\n"
     ]
    },
    {
     "data": {
      "text/plain": [
       "RandomForestClassifier()"
      ]
     },
     "execution_count": 39,
     "metadata": {},
     "output_type": "execute_result"
    }
   ],
   "source": [
    "%%time\n",
    "rfc.fit(X_train, y_train)"
   ]
  },
  {
   "cell_type": "code",
   "execution_count": 40,
   "metadata": {
    "collapsed": true,
    "id": "GZIhNY-bxPNz"
   },
   "outputs": [],
   "source": [
    "y_pred = rfc.predict(X_val)"
   ]
  },
  {
   "cell_type": "code",
   "execution_count": 41,
   "metadata": {
    "colab": {
     "base_uri": "https://localhost:8080/",
     "height": 167
    },
    "id": "2fPB6ydcrbBx",
    "outputId": "0e4cbcf4-fdfa-4d4c-b6c0-684d5a20b58e"
   },
   "outputs": [
    {
     "data": {
      "text/plain": [
       "array([[0, 0, 0, ..., 0, 0, 0],\n",
       "       [0, 0, 0, ..., 0, 0, 0],\n",
       "       [0, 0, 0, ..., 0, 0, 0],\n",
       "       ...,\n",
       "       [0, 0, 0, ..., 0, 0, 0],\n",
       "       [0, 0, 0, ..., 0, 0, 0],\n",
       "       [0, 0, 0, ..., 0, 0, 0]])"
      ]
     },
     "execution_count": 41,
     "metadata": {},
     "output_type": "execute_result"
    }
   ],
   "source": [
    "y_pred"
   ]
  },
  {
   "cell_type": "code",
   "execution_count": 42,
   "metadata": {
    "id": "LepViCoNrZCB"
   },
   "outputs": [
    {
     "ename": "TypeError",
     "evalue": "'numpy.float64' object is not callable",
     "output_type": "error",
     "traceback": [
      "\u001b[0;31m---------------------------------------------------------------------------\u001b[0m",
      "\u001b[0;31mTypeError\u001b[0m                                 Traceback (most recent call last)",
      "\u001b[0;32m<ipython-input-42-a0fe6cd0b6d9>\u001b[0m in \u001b[0;36m<module>\u001b[0;34m()\u001b[0m\n\u001b[0;32m----> 1\u001b[0;31m \u001b[0maccuracy_score\u001b[0m \u001b[0;34m=\u001b[0m \u001b[0maccuracy_score\u001b[0m\u001b[0;34m(\u001b[0m\u001b[0my_val\u001b[0m\u001b[0;34m.\u001b[0m\u001b[0mvalues\u001b[0m\u001b[0;34m,\u001b[0m \u001b[0my_pred\u001b[0m\u001b[0;34m)\u001b[0m\u001b[0;34m\u001b[0m\u001b[0;34m\u001b[0m\u001b[0m\n\u001b[0m",
      "\u001b[0;31mTypeError\u001b[0m: 'numpy.float64' object is not callable"
     ]
    }
   ],
   "source": [
    "accuracy_score = accuracy_score(y_val.values, y_pred)"
   ]
  },
  {
   "cell_type": "code",
   "execution_count": 43,
   "metadata": {
    "collapsed": true,
    "id": "uhmYZPe0xSDF"
   },
   "outputs": [],
   "source": [
    "with open('./data/rfc_model.pkl','wb') as outfile:\n",
    "  pickle.dump(rfc, outfile)"
   ]
  },
  {
   "cell_type": "markdown",
   "metadata": {
    "id": "tuT2iiGzwTeL"
   },
   "source": [
    "## 3.4"
   ]
  },
  {
   "cell_type": "code",
   "execution_count": null,
   "metadata": {
    "collapsed": true,
    "id": "TWq5wl3ceeJM"
   },
   "outputs": [],
   "source": [
    "# https://skml.readthedocs.io/en/latest/auto_examples/example_lp.html\n",
    "# https://xang1234.github.io/multi-label/"
   ]
  }
 ],
 "metadata": {
  "colab": {
   "collapsed_sections": [],
   "name": "MoA_-_Part_II.ipynb",
   "provenance": []
  },
  "kernelspec": {
   "display_name": "Python 3",
   "language": "python",
   "name": "python3"
  },
  "language_info": {
   "codemirror_mode": {
    "name": "ipython",
    "version": 3
   },
   "file_extension": ".py",
   "mimetype": "text/x-python",
   "name": "python",
   "nbconvert_exporter": "python",
   "pygments_lexer": "ipython3",
   "version": "3.6.7"
  }
 },
 "nbformat": 4,
 "nbformat_minor": 1
}
