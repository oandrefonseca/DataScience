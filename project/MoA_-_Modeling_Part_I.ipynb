{
  "nbformat": 4,
  "nbformat_minor": 0,
  "metadata": {
    "colab": {
      "name": "MoA_-_Part_II.ipynb",
      "provenance": [],
      "collapsed_sections": []
    },
    "kernelspec": {
      "display_name": "Python 3",
      "language": "python",
      "name": "python3"
    },
    "language_info": {
      "codemirror_mode": {
        "name": "ipython",
        "version": 3
      },
      "file_extension": ".py",
      "mimetype": "text/x-python",
      "name": "python",
      "nbconvert_exporter": "python",
      "pygments_lexer": "ipython3",
      "version": "3.6.7"
    }
  },
  "cells": [
    {
      "cell_type": "markdown",
      "metadata": {
        "id": "MvgjmxzxiDTS"
      },
      "source": [
        "# André Fonseca\n",
        "# Trabalho de conclusão do Data Science - Awari\n",
        "# Análise derivada do LISH-MoA\n",
        "## https://www.kaggle.com/c/lish-moa/overview"
      ]
    },
    {
      "cell_type": "markdown",
      "metadata": {
        "id": "pVvKSr8GTyr-"
      },
      "source": [
        "# 1. Import modules"
      ]
    },
    {
      "cell_type": "code",
      "metadata": {
        "colab": {
          "base_uri": "https://localhost:8080/"
        },
        "id": "N0gq63bQpcpM",
        "outputId": "a03f4653-8893-483b-eb88-3b8389c53f08"
      },
      "source": [
        "!pip install scikit-multilearn"
      ],
      "execution_count": 1,
      "outputs": [
        {
          "output_type": "stream",
          "text": [
            "Collecting scikit-multilearn\n",
            "\u001b[?25l  Downloading https://files.pythonhosted.org/packages/bb/1f/e6ff649c72a1cdf2c7a1d31eb21705110ce1c5d3e7e26b2cc300e1637272/scikit_multilearn-0.2.0-py3-none-any.whl (89kB)\n",
            "\r\u001b[K     |███▊                            | 10kB 16.1MB/s eta 0:00:01\r\u001b[K     |███████▍                        | 20kB 11.1MB/s eta 0:00:01\r\u001b[K     |███████████                     | 30kB 7.7MB/s eta 0:00:01\r\u001b[K     |██████████████▊                 | 40kB 6.8MB/s eta 0:00:01\r\u001b[K     |██████████████████▍             | 51kB 4.4MB/s eta 0:00:01\r\u001b[K     |██████████████████████          | 61kB 4.8MB/s eta 0:00:01\r\u001b[K     |█████████████████████████▊      | 71kB 4.9MB/s eta 0:00:01\r\u001b[K     |█████████████████████████████▍  | 81kB 5.2MB/s eta 0:00:01\r\u001b[K     |████████████████████████████████| 92kB 3.7MB/s \n",
            "\u001b[?25hInstalling collected packages: scikit-multilearn\n",
            "Successfully installed scikit-multilearn-0.2.0\n"
          ],
          "name": "stdout"
        }
      ]
    },
    {
      "cell_type": "code",
      "metadata": {
        "id": "bbJCBmSFh2Xs"
      },
      "source": [
        "# Basic\n",
        "import pandas as pd\n",
        "import numpy as np\n",
        "import seaborn as sns\n",
        "import matplotlib.pyplot as plt\n",
        "import pickle\n",
        "\n",
        "# Pre-processing\n",
        "from sklearn.pipeline import Pipeline\n",
        "from sklearn.model_selection import train_test_split\n",
        "from skmultilearn.model_selection import IterativeStratification\n",
        "\n",
        "# Models\n",
        "from sklearn.linear_model import LogisticRegression\n",
        "from sklearn.multiclass import OneVsRestClassifier\n",
        "from skmultilearn.problem_transform import LabelPowerset\n",
        "from sklearn.ensemble import RandomForestClassifier\n",
        "from skmultilearn.problem_transform import BinaryRelevance\n",
        "from skmultilearn.adapt import MLkNN\n",
        "from skmultilearn.ensemble import LabelSpacePartitioningClassifier\n",
        "\n",
        "# Optimization\n",
        "from sklearn.model_selection import GridSearchCV\n",
        "\n",
        "# Evaluation\n",
        "from sklearn.metrics import hamming_loss\n",
        "from sklearn.metrics import log_loss\n",
        "from sklearn.model_selection import cross_val_score\n",
        "from sklearn.metrics import accuracy_score\n",
        "from sklearn.metrics import f1_score\n",
        "from sklearn.metrics import jaccard_score"
      ],
      "execution_count": 2,
      "outputs": []
    },
    {
      "cell_type": "markdown",
      "metadata": {
        "id": "pVXyStyDXOD8"
      },
      "source": [
        "#### Only if you are using Google Colab"
      ]
    },
    {
      "cell_type": "code",
      "metadata": {
        "colab": {
          "base_uri": "https://localhost:8080/"
        },
        "id": "QrjRS-H_iI1_",
        "outputId": "b5627662-f0c9-4b28-837a-8c3c1be3033b"
      },
      "source": [
        "from google.colab import drive\n",
        "drive.mount('/content/drive')"
      ],
      "execution_count": 3,
      "outputs": [
        {
          "output_type": "stream",
          "text": [
            "Mounted at /content/drive\n"
          ],
          "name": "stdout"
        }
      ]
    },
    {
      "cell_type": "code",
      "metadata": {
        "id": "gK_gXOZGXOD8",
        "outputId": "e7f61d09-4b7f-4a1b-947c-1a0d55adab38",
        "colab": {
          "base_uri": "https://localhost:8080/"
        }
      },
      "source": [
        "%cd /content/drive/My Drive/Awari"
      ],
      "execution_count": 4,
      "outputs": [
        {
          "output_type": "stream",
          "text": [
            "/content/drive/My Drive/Awari\n"
          ],
          "name": "stdout"
        }
      ]
    },
    {
      "cell_type": "markdown",
      "metadata": {
        "id": "xL8KLEUGiJL_"
      },
      "source": [
        "# 2. Loading dataset"
      ]
    },
    {
      "cell_type": "code",
      "metadata": {
        "id": "ZV34-UmYgKu0"
      },
      "source": [
        "# Loading X data\n",
        "train_features = pd.read_csv(\"./data/train_features.csv\")\n",
        "test_features = pd.read_csv(\"./data/test_features.csv\")"
      ],
      "execution_count": 5,
      "outputs": []
    },
    {
      "cell_type": "code",
      "metadata": {
        "id": "zGnR5N9fhL9n"
      },
      "source": [
        "# Loading Y data\n",
        "train_targets_sc = pd.read_csv(\"./data/train_targets_scored.csv\")\n",
        "train_targets_ns = pd.read_csv(\"./data/train_targets_nonscored.csv\")"
      ],
      "execution_count": 6,
      "outputs": []
    },
    {
      "cell_type": "code",
      "metadata": {
        "id": "ZWpVNImYgKu4"
      },
      "source": [
        "sample_submission = pd.read_csv(\"./data/sample_submission.csv\")"
      ],
      "execution_count": 7,
      "outputs": []
    },
    {
      "cell_type": "markdown",
      "metadata": {
        "id": "HVbluuIHjVU3"
      },
      "source": [
        "## 2.1. Preparing dataset to Machine Learning"
      ]
    },
    {
      "cell_type": "code",
      "metadata": {
        "id": "LMdozwKeXuQZ"
      },
      "source": [
        "X = train_features.drop('sig_id', axis = 1)\n",
        "X = pd.get_dummies(X)"
      ],
      "execution_count": 8,
      "outputs": []
    },
    {
      "cell_type": "code",
      "metadata": {
        "id": "PknvpooUpAZF"
      },
      "source": [
        "y = train_targets_sc.drop('sig_id', axis = 1)"
      ],
      "execution_count": 9,
      "outputs": []
    },
    {
      "cell_type": "markdown",
      "metadata": {
        "id": "X91ZOR3vXtiV"
      },
      "source": [
        "## 2.2. Building a validation test"
      ]
    },
    {
      "cell_type": "code",
      "metadata": {
        "id": "vVliVrlDXOD8"
      },
      "source": [
        "stratifier = IterativeStratification(n_splits=2, order=2, sample_distribution_per_fold=[0.25, 0.75])\n",
        "train_indexes, test_indexes = next(stratifier.split(X, y))\n",
        "\n",
        "X_train, y_train = X.loc[train_indexes], y.loc[train_indexes]\n",
        "X_val, y_val = X.loc[test_indexes], y.loc[test_indexes]"
      ],
      "execution_count": 10,
      "outputs": []
    },
    {
      "cell_type": "markdown",
      "metadata": {
        "id": "SnTEe0RUcmiZ"
      },
      "source": [
        "## 2.3. Loading pre-calculated models"
      ]
    },
    {
      "cell_type": "code",
      "metadata": {
        "id": "q4OqoFmBZ2IO"
      },
      "source": [
        "power = pickle.load(open('./data/models/power_model.pkl', 'rb'))"
      ],
      "execution_count": 108,
      "outputs": []
    },
    {
      "cell_type": "code",
      "metadata": {
        "id": "lvvyKbuVgd7B"
      },
      "source": [
        "br = pickle.load(open('./data/models/binary_forest_model.pkl', 'rb'))"
      ],
      "execution_count": null,
      "outputs": []
    },
    {
      "cell_type": "code",
      "metadata": {
        "id": "Xr0EYYb_gYLB"
      },
      "source": [
        "knn = pickle.load(open('./data/models/mlknn_model.pkl', 'rb'))"
      ],
      "execution_count": null,
      "outputs": []
    },
    {
      "cell_type": "code",
      "metadata": {
        "id": "zLumxtSKa_2v"
      },
      "source": [
        "knn_grid = pickle.load(open('./data/models/knn_cv_model.pkl', 'rb'))"
      ],
      "execution_count": null,
      "outputs": []
    },
    {
      "cell_type": "code",
      "metadata": {
        "id": "NakwdGMpbZu3"
      },
      "source": [
        "lab_space = pickle.load(open('./data/models/lab_space.pkl', 'rb'))"
      ],
      "execution_count": null,
      "outputs": []
    },
    {
      "cell_type": "code",
      "metadata": {
        "id": "TeWRYeALb9ce"
      },
      "source": [
        "lab_grid = pickle.load(open('./data/models/lab_cv_model.pkl', 'rb'))"
      ],
      "execution_count": null,
      "outputs": []
    },
    {
      "cell_type": "markdown",
      "metadata": {
        "id": "R4fJAjrbo7MC"
      },
      "source": [
        "# 3. Multi-labels models"
      ]
    },
    {
      "cell_type": "markdown",
      "metadata": {
        "id": "If_9-Ij7XOD8"
      },
      "source": [
        "### Problem Transformation approaches\n",
        "* One-vs-Rest - Logistic Regression\n",
        "* LabelPowerSet - Logistic Regression\n",
        "* BinaryRelevance - Random Forest\n",
        "\n",
        "### Algorithm Adaptation approaches\n",
        "* multi-label adapted kNN\n",
        "* multi-label adapted kNN + Cross-Validation\n",
        "\n",
        "### Ensembles of Classifiers\n",
        "* LabelSpacePartitioningClassifier\n",
        "* LabelSpacePartitioningClassifier + Cross-Validation"
      ]
    },
    {
      "cell_type": "markdown",
      "metadata": {
        "id": "HvcMHsx8p2yF"
      },
      "source": [
        "## 3.1. One-vs-Rest"
      ]
    },
    {
      "cell_type": "code",
      "metadata": {
        "id": "qK__RdXIBiqy"
      },
      "source": [
        "moa_category, moa_names, moa_accuracy = y_train.columns, [], []"
      ],
      "execution_count": 18,
      "outputs": []
    },
    {
      "cell_type": "code",
      "metadata": {
        "id": "lcgMy7uIBGFS",
        "outputId": "ca57323d-29f0-49a2-a95d-eca577b46d34",
        "colab": {
          "base_uri": "https://localhost:8080/"
        }
      },
      "source": [
        "log_pipeline = Pipeline([('classifier', OneVsRestClassifier(\n",
        "    LogisticRegression(solver = 'sag'), n_jobs = -1)), ])"
      ],
      "execution_count": 14,
      "outputs": [
        {
          "output_type": "stream",
          "text": [
            "CPU times: user 138 µs, sys: 23 µs, total: 161 µs\n",
            "Wall time: 164 µs\n"
          ],
          "name": "stdout"
        }
      ]
    },
    {
      "cell_type": "code",
      "metadata": {
        "id": "i7wFAZe8BPRV",
        "outputId": "1593c132-6129-49c2-d0e7-a0d3d1e76c9a",
        "colab": {
          "base_uri": "https://localhost:8080/"
        }
      },
      "source": [
        "%%time\n",
        "\n",
        "for category in moa_category:\n",
        "  try:\n",
        "    log_pipeline.fit(X_train, y_train[category])\n",
        "  except:\n",
        "    print(\"Error!\")\n",
        "  \n",
        "  y_pred = log_pipeline.predict(X_val)\n",
        "  score = accuracy_score(y_val[category], y_pred)\n",
        "\n",
        "  moa_accuracy.append(score)\n",
        "  moa_names.append(category)"
      ],
      "execution_count": 19,
      "outputs": [
        {
          "output_type": "stream",
          "text": [
            "CPU times: user 18.7 s, sys: 33.3 s, total: 52.1 s\n",
            "Wall time: 51min 32s\n"
          ],
          "name": "stdout"
        }
      ]
    },
    {
      "cell_type": "code",
      "metadata": {
        "id": "clw9D_1SZGev"
      },
      "source": [
        "log_one_vs_rest = pd.DataFrame({'MoA': moa_names, 'accuracy': moa_accuracy})"
      ],
      "execution_count": null,
      "outputs": []
    },
    {
      "cell_type": "code",
      "metadata": {
        "id": "GhKK4I-Rc9-q"
      },
      "source": [
        "log_one_vs_rest.head(10)"
      ],
      "execution_count": null,
      "outputs": []
    },
    {
      "cell_type": "code",
      "metadata": {
        "id": "qmPPdTvjbMcg"
      },
      "source": [
        "log_one_vs_rest.to_csv(\"./data/models/log_one_vs_rest.csv\", index = False)"
      ],
      "execution_count": null,
      "outputs": []
    },
    {
      "cell_type": "markdown",
      "metadata": {
        "id": "WOr5gi5AzQN3"
      },
      "source": [
        "## 3.2. LabelPowerSet"
      ]
    },
    {
      "cell_type": "code",
      "metadata": {
        "id": "fxAdNt8MkhKw"
      },
      "source": [
        "power = LabelPowerset(LogisticRegression(), \n",
        "                      require_dense = [False, True])"
      ],
      "execution_count": 102,
      "outputs": []
    },
    {
      "cell_type": "code",
      "metadata": {
        "id": "gYaCPUpSkws6"
      },
      "source": [
        "%%time\n",
        "power.fit(X_train, y_train)"
      ],
      "execution_count": null,
      "outputs": []
    },
    {
      "cell_type": "code",
      "metadata": {
        "id": "gEyrVeHFkpnB"
      },
      "source": [
        "y_pred = power.predict(X_val)"
      ],
      "execution_count": 46,
      "outputs": []
    },
    {
      "cell_type": "code",
      "metadata": {
        "id": "RuGawyNIvnx8"
      },
      "source": [
        "y_prob = power.predict_proba(X_val)"
      ],
      "execution_count": 104,
      "outputs": []
    },
    {
      "cell_type": "code",
      "metadata": {
        "id": "934_PifNzNAS"
      },
      "source": [
        "y_prob_array = y_prob.toarray()"
      ],
      "execution_count": 105,
      "outputs": []
    },
    {
      "cell_type": "code",
      "metadata": {
        "id": "JRNG7RcSknF_"
      },
      "source": [
        "accuracy_score = accuracy_score(y_val.values, y_pred)"
      ],
      "execution_count": null,
      "outputs": []
    },
    {
      "cell_type": "code",
      "metadata": {
        "colab": {
          "base_uri": "https://localhost:8080/"
        },
        "id": "MltaKkyao_nS",
        "outputId": "922f3394-81ea-40d6-9988-36d1925c4901"
      },
      "source": [
        "print(f'Accuracy score: {accuracy_score}')"
      ],
      "execution_count": 16,
      "outputs": [
        {
          "output_type": "stream",
          "text": [
            "Accuracy score: 0.47195162915686933\n"
          ],
          "name": "stdout"
        }
      ]
    },
    {
      "cell_type": "code",
      "metadata": {
        "id": "QlYrHAtbXOD8"
      },
      "source": [
        "f1_score = f1_score(y_val.values, y_pred, average = 'micro')"
      ],
      "execution_count": 17,
      "outputs": []
    },
    {
      "cell_type": "code",
      "metadata": {
        "colab": {
          "base_uri": "https://localhost:8080/"
        },
        "id": "is1yG-xMXOD8",
        "outputId": "c2226654-384b-4095-86bd-eaae88a65fbb"
      },
      "source": [
        "print(f'F1-score: {accuracy_score}')"
      ],
      "execution_count": 18,
      "outputs": [
        {
          "output_type": "stream",
          "text": [
            "F1-score: 0.47195162915686933\n"
          ],
          "name": "stdout"
        }
      ]
    },
    {
      "cell_type": "code",
      "metadata": {
        "id": "ltGsa4M-vhH1"
      },
      "source": [
        "logging_score = log_loss(y_val.values, y_prob_array)"
      ],
      "execution_count": 106,
      "outputs": []
    },
    {
      "cell_type": "code",
      "metadata": {
        "colab": {
          "base_uri": "https://localhost:8080/"
        },
        "id": "4oZejD-VvjFi",
        "outputId": "e48546f6-9474-42bc-8b22-d352142cc317"
      },
      "source": [
        "print(f'Log-loss score: {logging_score}')"
      ],
      "execution_count": 20,
      "outputs": [
        {
          "output_type": "stream",
          "text": [
            "Log-loss score: 2.3457120387845443\n"
          ],
          "name": "stdout"
        }
      ]
    },
    {
      "cell_type": "code",
      "metadata": {
        "id": "Ly38oTG9XOD8"
      },
      "source": [
        "hamming_loss = hamming_loss(y_val.values, y_pred)"
      ],
      "execution_count": 21,
      "outputs": []
    },
    {
      "cell_type": "code",
      "metadata": {
        "id": "JnR1jiwGXOD8",
        "outputId": "7e7969a5-ab09-4d08-d837-128ab0d8c4f8",
        "colab": {
          "base_uri": "https://localhost:8080/"
        }
      },
      "source": [
        "print(f'Hamming-loss score: {hamming_loss}')"
      ],
      "execution_count": 22,
      "outputs": [
        {
          "output_type": "stream",
          "text": [
            "Hamming-loss score: 0.003414527559183514\n"
          ],
          "name": "stdout"
        }
      ]
    },
    {
      "cell_type": "code",
      "metadata": {
        "id": "JfWnRMeIpAGp"
      },
      "source": [
        "with open('./data/models/power_model.pkl','wb') as outfile:\n",
        "  pickle.dump(power, outfile)"
      ],
      "execution_count": 33,
      "outputs": []
    },
    {
      "cell_type": "markdown",
      "metadata": {
        "id": "VhLtTX81XOD8"
      },
      "source": [
        "## 3.3. BinaryRelevance"
      ]
    },
    {
      "cell_type": "code",
      "metadata": {
        "id": "wd52y0UGXOD9"
      },
      "source": [
        "br = BinaryRelevance(\n",
        "    classifier = RandomForestClassifier(),\n",
        "    require_dense = [False, True]\n",
        ")"
      ],
      "execution_count": 34,
      "outputs": []
    },
    {
      "cell_type": "code",
      "metadata": {
        "id": "D63Nw3uAXOD9",
        "outputId": "535efdee-b1aa-4c33-f5dc-026ae463a2fb",
        "colab": {
          "base_uri": "https://localhost:8080/"
        }
      },
      "source": [
        "%%time\n",
        "br.fit(X_train, y_train)"
      ],
      "execution_count": 35,
      "outputs": [
        {
          "output_type": "stream",
          "text": [
            "CPU times: user 3h 17min 49s, sys: 2.84 s, total: 3h 17min 51s\n",
            "Wall time: 3h 18min 59s\n"
          ],
          "name": "stdout"
        },
        {
          "output_type": "execute_result",
          "data": {
            "text/plain": [
              "BinaryRelevance(classifier=RandomForestClassifier(bootstrap=True, ccp_alpha=0.0,\n",
              "                                                  class_weight=None,\n",
              "                                                  criterion='gini',\n",
              "                                                  max_depth=None,\n",
              "                                                  max_features='auto',\n",
              "                                                  max_leaf_nodes=None,\n",
              "                                                  max_samples=None,\n",
              "                                                  min_impurity_decrease=0.0,\n",
              "                                                  min_impurity_split=None,\n",
              "                                                  min_samples_leaf=1,\n",
              "                                                  min_samples_split=2,\n",
              "                                                  min_weight_fraction_leaf=0.0,\n",
              "                                                  n_estimators=100, n_jobs=None,\n",
              "                                                  oob_score=False,\n",
              "                                                  random_state=None, verbose=0,\n",
              "                                                  warm_start=False),\n",
              "                require_dense=[False, True])"
            ]
          },
          "metadata": {
            "tags": []
          },
          "execution_count": 35
        }
      ]
    },
    {
      "cell_type": "code",
      "metadata": {
        "id": "a0rjNn1gXOD9"
      },
      "source": [
        "y_pred = br.predict(X_val)"
      ],
      "execution_count": 36,
      "outputs": []
    },
    {
      "cell_type": "code",
      "metadata": {
        "id": "PKx1oS7JZbZl"
      },
      "source": [
        "y_prob = br.predict_proba(X_val)"
      ],
      "execution_count": 50,
      "outputs": []
    },
    {
      "cell_type": "code",
      "metadata": {
        "id": "bW8Yp-JMelxh"
      },
      "source": [
        "y_prob_array = y_prob.toarray()"
      ],
      "execution_count": 51,
      "outputs": []
    },
    {
      "cell_type": "code",
      "metadata": {
        "id": "O_ZlFSvcXOD9"
      },
      "source": [
        "accuracy_score = accuracy_score(y_val.values, y_pred)"
      ],
      "execution_count": null,
      "outputs": []
    },
    {
      "cell_type": "code",
      "metadata": {
        "id": "8F-pGCKFXOD9"
      },
      "source": [
        "print(f'Accuracy score: {accuracy_score}')"
      ],
      "execution_count": null,
      "outputs": []
    },
    {
      "cell_type": "code",
      "metadata": {
        "id": "3uA8imSeXOD9"
      },
      "source": [
        "f1_score = f1_score(y_val.values, y_pred, average = 'micro')"
      ],
      "execution_count": null,
      "outputs": []
    },
    {
      "cell_type": "code",
      "metadata": {
        "colab": {
          "base_uri": "https://localhost:8080/"
        },
        "id": "d6zPN_TvXOD9",
        "outputId": "e1a769ac-d689-437a-9dc8-cecac9aa5bcc"
      },
      "source": [
        "print(f'F1-score: {accuracy_score}')"
      ],
      "execution_count": 54,
      "outputs": [
        {
          "output_type": "stream",
          "text": [
            "F1-score: 0.47195162915686933\n"
          ],
          "name": "stdout"
        }
      ]
    },
    {
      "cell_type": "code",
      "metadata": {
        "id": "3RxnFR45XOD9"
      },
      "source": [
        "logging_score = log_loss(y_val.values, y_prob_array)"
      ],
      "execution_count": 59,
      "outputs": []
    },
    {
      "cell_type": "code",
      "metadata": {
        "colab": {
          "base_uri": "https://localhost:8080/"
        },
        "id": "kAN_9-vGXOD9",
        "outputId": "2a13f305-8769-4a68-d624-d0df5ca20cd4"
      },
      "source": [
        "print(f'Log-loss score: {logging_score}')"
      ],
      "execution_count": 60,
      "outputs": [
        {
          "output_type": "stream",
          "text": [
            "Log-loss score: 7.001000542703964\n"
          ],
          "name": "stdout"
        }
      ]
    },
    {
      "cell_type": "code",
      "metadata": {
        "id": "EKV0Y-rLXOD9"
      },
      "source": [
        "hamming_loss = hamming_loss(y_val.values, y_pred)"
      ],
      "execution_count": null,
      "outputs": []
    },
    {
      "cell_type": "code",
      "metadata": {
        "id": "P8LDwnjTXOD9",
        "outputId": "a9b35a33-407f-4073-f037-aa7c9fcf4671",
        "colab": {
          "base_uri": "https://localhost:8080/"
        }
      },
      "source": [
        "print(f'Hamming-loss score: {hamming_loss}')"
      ],
      "execution_count": 58,
      "outputs": [
        {
          "output_type": "stream",
          "text": [
            "Hamming-loss score: 0.003414527559183514\n"
          ],
          "name": "stdout"
        }
      ]
    },
    {
      "cell_type": "code",
      "metadata": {
        "id": "vLfdatcmXOD9"
      },
      "source": [
        "with open('./data/models/binary_forest_model.pkl','wb') as outfile:\n",
        "  pickle.dump(br, outfile)"
      ],
      "execution_count": null,
      "outputs": []
    },
    {
      "cell_type": "markdown",
      "metadata": {
        "id": "unzMVb23Bown"
      },
      "source": [
        "## 3.4. multi-label adapted kNN"
      ]
    },
    {
      "cell_type": "code",
      "metadata": {
        "id": "HhsuDoF2zO93"
      },
      "source": [
        "knn = MLkNN(k = 5)"
      ],
      "execution_count": 85,
      "outputs": []
    },
    {
      "cell_type": "code",
      "metadata": {
        "colab": {
          "base_uri": "https://localhost:8080/"
        },
        "id": "RQSB68bGYtO0",
        "outputId": "308f7150-ed3d-44eb-8bcc-3a9cb4a2e193"
      },
      "source": [
        "%%time\n",
        "knn.fit(X_train.values, y_train.values)"
      ],
      "execution_count": 86,
      "outputs": [
        {
          "output_type": "stream",
          "text": [
            "CPU times: user 9min 35s, sys: 157 ms, total: 9min 35s\n",
            "Wall time: 9min 35s\n"
          ],
          "name": "stdout"
        },
        {
          "output_type": "execute_result",
          "data": {
            "text/plain": [
              "MLkNN(ignore_first_neighbours=0, k=5, s=1.0)"
            ]
          },
          "metadata": {
            "tags": []
          },
          "execution_count": 86
        }
      ]
    },
    {
      "cell_type": "code",
      "metadata": {
        "id": "e7MLIxRDe-8E"
      },
      "source": [
        "y_pred = knn.predict(X_val)"
      ],
      "execution_count": 87,
      "outputs": []
    },
    {
      "cell_type": "code",
      "metadata": {
        "id": "T8febH6nXOD9"
      },
      "source": [
        "y_prob = knn.predict_proba(X_val)"
      ],
      "execution_count": null,
      "outputs": []
    },
    {
      "cell_type": "code",
      "metadata": {
        "id": "XtbhqYf7XOD9"
      },
      "source": [
        "y_prob_array = y_prob.toarray()"
      ],
      "execution_count": 89,
      "outputs": []
    },
    {
      "cell_type": "code",
      "metadata": {
        "id": "dZ--_7t0fynS"
      },
      "source": [
        "accuracy_score = accuracy_score(y_val.values, y_pred)"
      ],
      "execution_count": null,
      "outputs": []
    },
    {
      "cell_type": "code",
      "metadata": {
        "id": "XgnxCP9Mf9Rq"
      },
      "source": [
        "print(f'Accuracy score: {accuracy_score}')"
      ],
      "execution_count": null,
      "outputs": []
    },
    {
      "cell_type": "code",
      "metadata": {
        "id": "5MoKvHnJXOD9"
      },
      "source": [
        "f1_score = f1_score(y_val.values, y_pred, average = 'micro')"
      ],
      "execution_count": null,
      "outputs": []
    },
    {
      "cell_type": "code",
      "metadata": {
        "id": "vt4BZ6KTXOD9"
      },
      "source": [
        "print(f'F1-score: {accuracy_score}')"
      ],
      "execution_count": null,
      "outputs": []
    },
    {
      "cell_type": "code",
      "metadata": {
        "id": "xsTzcf8EZfzd"
      },
      "source": [
        "logging_score = log_loss(y_val.values, y_prob_array)"
      ],
      "execution_count": 90,
      "outputs": []
    },
    {
      "cell_type": "code",
      "metadata": {
        "colab": {
          "base_uri": "https://localhost:8080/"
        },
        "id": "eZe8HeA2ZmKP",
        "outputId": "cd1a2190-c3a2-48b3-f856-ea6071ee407b"
      },
      "source": [
        "print(f'Log-loss score: {logging_score}')"
      ],
      "execution_count": 91,
      "outputs": [
        {
          "output_type": "stream",
          "text": [
            "Log-loss score: 8.653149769241583\n"
          ],
          "name": "stdout"
        }
      ]
    },
    {
      "cell_type": "code",
      "metadata": {
        "id": "Aoj011V-XOD9"
      },
      "source": [
        "hamming_loss = hamming_loss(y_val.values, y_pred)"
      ],
      "execution_count": null,
      "outputs": []
    },
    {
      "cell_type": "code",
      "metadata": {
        "scrolled": true,
        "id": "r1MvCW59XOD9"
      },
      "source": [
        "print(f'Hamming-loss score: {hamming_loss}')"
      ],
      "execution_count": null,
      "outputs": []
    },
    {
      "cell_type": "code",
      "metadata": {
        "id": "QNYc5Dz3fS1o"
      },
      "source": [
        "with open('./data/models/mlknn_model.pkl','wb') as outfile:\n",
        "  pickle.dump(knn, outfile)"
      ],
      "execution_count": 88,
      "outputs": []
    },
    {
      "cell_type": "markdown",
      "metadata": {
        "id": "tuT2iiGzwTeL"
      },
      "source": [
        "## 3.5. multi-label adapted kNN + Cross-Validation"
      ]
    },
    {
      "cell_type": "code",
      "metadata": {
        "id": "TWq5wl3ceeJM"
      },
      "source": [
        "parameters = {'k': range(8, 10), 's': [0.5, 1.0]}\n",
        "knn_grid = GridSearchCV(MLkNN(), parameters, scoring = 'f1_micro')"
      ],
      "execution_count": null,
      "outputs": []
    },
    {
      "cell_type": "code",
      "metadata": {
        "id": "b9J5M_FGXOD9"
      },
      "source": [
        "%%time\n",
        "knn_grid.fit(X_train, y_train.values)"
      ],
      "execution_count": null,
      "outputs": []
    },
    {
      "cell_type": "code",
      "metadata": {
        "id": "TEwei8aAXOD-",
        "outputId": "974df150-e25c-4e4e-a523-d206e624aad7",
        "colab": {
          "base_uri": "https://localhost:8080/"
        }
      },
      "source": [
        "print(f'Best parameters: {knn_grid.best_params_}.\\nBest score: {knn_grid.best_score_}')"
      ],
      "execution_count": 61,
      "outputs": [
        {
          "output_type": "stream",
          "text": [
            "Best parameters: {'k': 9, 's': 1.0}.\n",
            "Best score: 0.28548788186446944\n"
          ],
          "name": "stdout"
        }
      ]
    },
    {
      "cell_type": "code",
      "metadata": {
        "id": "tTF4gHKJXOD-"
      },
      "source": [
        "y_pred = knn_grid.predict(X_val)"
      ],
      "execution_count": 62,
      "outputs": []
    },
    {
      "cell_type": "code",
      "metadata": {
        "id": "tbBUzE77XOD-"
      },
      "source": [
        "y_prob = knn_grid.predict_proba(X_val)"
      ],
      "execution_count": 63,
      "outputs": []
    },
    {
      "cell_type": "code",
      "metadata": {
        "id": "cc1HOJGtXOD_"
      },
      "source": [
        "y_prob_array = y_prob.toarray()"
      ],
      "execution_count": 64,
      "outputs": []
    },
    {
      "cell_type": "code",
      "metadata": {
        "id": "4rEM11PuXOD_"
      },
      "source": [
        "accuracy_score = accuracy_score(y_val.values, y_pred)"
      ],
      "execution_count": null,
      "outputs": []
    },
    {
      "cell_type": "code",
      "metadata": {
        "id": "nOV5joowXOD_"
      },
      "source": [
        "print(f'Accuracy score: {accuracy_score}')"
      ],
      "execution_count": null,
      "outputs": []
    },
    {
      "cell_type": "code",
      "metadata": {
        "id": "BaZ4IKlXXOD_"
      },
      "source": [
        "f1_score = f1_score(y_val.values, y_pred, average = 'micro')"
      ],
      "execution_count": null,
      "outputs": []
    },
    {
      "cell_type": "code",
      "metadata": {
        "colab": {
          "base_uri": "https://localhost:8080/"
        },
        "id": "IC4ymYEJXOD_",
        "outputId": "a2b3bee8-78ab-4c18-e157-ec13e0921b28"
      },
      "source": [
        "print(f'F1-score: {accuracy_score}')"
      ],
      "execution_count": 67,
      "outputs": [
        {
          "output_type": "stream",
          "text": [
            "F1-score: 0.47195162915686933\n"
          ],
          "name": "stdout"
        }
      ]
    },
    {
      "cell_type": "code",
      "metadata": {
        "id": "h4LnSvGRXOD_"
      },
      "source": [
        "logging_score = log_loss(y_val.values, y_prob_array)"
      ],
      "execution_count": 68,
      "outputs": []
    },
    {
      "cell_type": "code",
      "metadata": {
        "colab": {
          "base_uri": "https://localhost:8080/"
        },
        "id": "I9buUSgkXOD_",
        "outputId": "e0ee5c88-569d-4647-d7a6-df846cd4f867"
      },
      "source": [
        "print(f'Log-loss score: {logging_score}')"
      ],
      "execution_count": 69,
      "outputs": [
        {
          "output_type": "stream",
          "text": [
            "Log-loss score: 3.0512107029335276\n"
          ],
          "name": "stdout"
        }
      ]
    },
    {
      "cell_type": "code",
      "metadata": {
        "id": "TZFAnzuwXOD_"
      },
      "source": [
        "hamming_loss = hamming_loss(y_val.values, y_pred)"
      ],
      "execution_count": null,
      "outputs": []
    },
    {
      "cell_type": "code",
      "metadata": {
        "scrolled": true,
        "id": "B4EjvZg2XOD_",
        "outputId": "ad46fa72-8078-435b-f4a8-8272ba63673a",
        "colab": {
          "base_uri": "https://localhost:8080/"
        }
      },
      "source": [
        "print(f'Hamming-loss score: {hamming_loss}')"
      ],
      "execution_count": 71,
      "outputs": [
        {
          "output_type": "stream",
          "text": [
            "Hamming-loss score: 0.003414527559183514\n"
          ],
          "name": "stdout"
        }
      ]
    },
    {
      "cell_type": "code",
      "metadata": {
        "id": "Qwi85BwwXOD_"
      },
      "source": [
        "with open('./data/models/knn_cv_model.pkl','wb') as outfile:\n",
        "  pickle.dump(knn_grid, outfile)"
      ],
      "execution_count": null,
      "outputs": []
    },
    {
      "cell_type": "markdown",
      "metadata": {
        "id": "FmMEz4MmXOD_"
      },
      "source": [
        "## 3.6. LabelSpacePartitioningClassifier"
      ]
    },
    {
      "cell_type": "code",
      "metadata": {
        "id": "BLaSwDJ_XOD_"
      },
      "source": [
        "# Load Clusterer object\n",
        "clusterer = pickle.load(open('./data/clusterer.pkl', 'rb'))"
      ],
      "execution_count": 92,
      "outputs": []
    },
    {
      "cell_type": "code",
      "metadata": {
        "id": "mHzSvYRTXOD_"
      },
      "source": [
        "lab_space = LabelSpacePartitioningClassifier(\n",
        "    classifier = BinaryRelevance(\n",
        "    classifier = RandomForestClassifier(),\n",
        "    require_dense = [False, True]\n",
        "    ),\n",
        "    clusterer  = clusterer\n",
        ")"
      ],
      "execution_count": 93,
      "outputs": []
    },
    {
      "cell_type": "code",
      "metadata": {
        "id": "QEwlYwHpXOD_",
        "outputId": "df339927-ac7a-4354-b07f-7af32883abf0",
        "colab": {
          "base_uri": "https://localhost:8080/"
        }
      },
      "source": [
        "%%time\n",
        "lab_space.fit(X_train,y_train)"
      ],
      "execution_count": 94,
      "outputs": [
        {
          "output_type": "stream",
          "text": [
            "CPU times: user 3h 13min 46s, sys: 2.83 s, total: 3h 13min 49s\n",
            "Wall time: 3h 13min 57s\n"
          ],
          "name": "stdout"
        },
        {
          "output_type": "execute_result",
          "data": {
            "text/plain": [
              "LabelSpacePartitioningClassifier(classifier=BinaryRelevance(classifier=RandomForestClassifier(bootstrap=True,\n",
              "                                                                                              ccp_alpha=0.0,\n",
              "                                                                                              class_weight=None,\n",
              "                                                                                              criterion='gini',\n",
              "                                                                                              max_depth=None,\n",
              "                                                                                              max_features='auto',\n",
              "                                                                                              max_leaf_nodes=None,\n",
              "                                                                                              max_samples=None,\n",
              "                                                                                              min_impurity_decrease=0.0,\n",
              "                                                                                              min_impurity_split=None,\n",
              "                                                                                              min_samples_leaf=1,\n",
              "                                                                                              min_samples_split=2,\n",
              "                                                                                              min_weight_fraction_leaf=0.0,\n",
              "                                                                                              n_estimators=100,\n",
              "                                                                                              n_jobs=None,\n",
              "                                                                                              oob_score=False,\n",
              "                                                                                              random_state=None,\n",
              "                                                                                              verbose=0,\n",
              "                                                                                              warm_start=False),\n",
              "                                                            require_dense=[False,\n",
              "                                                                           True]),\n",
              "                                 clusterer=<skmultilearn.cluster.networkx.NetworkXLabelGraphClusterer object at 0x7fbfcf7d5c50>,\n",
              "                                 require_dense=[False, False])"
            ]
          },
          "metadata": {
            "tags": []
          },
          "execution_count": 94
        }
      ]
    },
    {
      "cell_type": "code",
      "metadata": {
        "id": "q5b_W7mqXOD_"
      },
      "source": [
        "y_pred = lab_space.predict(X_val)"
      ],
      "execution_count": 96,
      "outputs": []
    },
    {
      "cell_type": "code",
      "metadata": {
        "id": "qCI7b2XMXOD_"
      },
      "source": [
        "y_prob = lab_space.predict_proba(X_val)"
      ],
      "execution_count": 97,
      "outputs": []
    },
    {
      "cell_type": "code",
      "metadata": {
        "id": "j87C7bJpXOD_"
      },
      "source": [
        "y_prob_array = y_prob.toarray()"
      ],
      "execution_count": 98,
      "outputs": []
    },
    {
      "cell_type": "code",
      "metadata": {
        "id": "U-nwUMa-XOD_"
      },
      "source": [
        "accuracy_score = accuracy_score(y_val.values, y_pred)"
      ],
      "execution_count": null,
      "outputs": []
    },
    {
      "cell_type": "code",
      "metadata": {
        "id": "JBRvu-NYXOD_"
      },
      "source": [
        "print(f'Accuracy score: {accuracy_score}')"
      ],
      "execution_count": null,
      "outputs": []
    },
    {
      "cell_type": "code",
      "metadata": {
        "id": "vgfiegh8XOD_"
      },
      "source": [
        "f1_score = f1_score(y_val.values, y_pred, average = 'micro')"
      ],
      "execution_count": null,
      "outputs": []
    },
    {
      "cell_type": "code",
      "metadata": {
        "id": "eoj68lVxXOD_"
      },
      "source": [
        "print(f'F1-score: {accuracy_score}')"
      ],
      "execution_count": null,
      "outputs": []
    },
    {
      "cell_type": "code",
      "metadata": {
        "id": "8Q5j_JWAXOD_"
      },
      "source": [
        "logging_score = log_loss(y_val.values, y_prob_array)"
      ],
      "execution_count": 100,
      "outputs": []
    },
    {
      "cell_type": "code",
      "metadata": {
        "colab": {
          "base_uri": "https://localhost:8080/"
        },
        "id": "2V9jkft4XOD_",
        "outputId": "edb630e8-bb19-43d1-962f-c8fcb35b09f8"
      },
      "source": [
        "print(f'Log-loss score: {logging_score}')"
      ],
      "execution_count": 101,
      "outputs": [
        {
          "output_type": "stream",
          "text": [
            "Log-loss score: 10.375247354136405\n"
          ],
          "name": "stdout"
        }
      ]
    },
    {
      "cell_type": "code",
      "metadata": {
        "id": "mZyyArL1XOD_"
      },
      "source": [
        "hamming_loss = hamming_loss(y_val.values, y_pred)"
      ],
      "execution_count": null,
      "outputs": []
    },
    {
      "cell_type": "code",
      "metadata": {
        "scrolled": true,
        "id": "cHlTB7ZOXOD_"
      },
      "source": [
        "print(f'Hamming-loss score: {hamming_loss}')"
      ],
      "execution_count": null,
      "outputs": []
    },
    {
      "cell_type": "code",
      "metadata": {
        "id": "iDv5Io3eXOD_"
      },
      "source": [
        "with open('./data/models/lab_space.pkl','wb') as outfile:\n",
        "  pickle.dump(lab_space, outfile)"
      ],
      "execution_count": 95,
      "outputs": []
    },
    {
      "cell_type": "markdown",
      "metadata": {
        "id": "ghrBOf69XOD_"
      },
      "source": [
        "## 3.7. LabelSpacePartitioningClassifier + Cross-Validation"
      ]
    },
    {
      "cell_type": "code",
      "metadata": {
        "id": "agm5y_zNXOD_"
      },
      "source": [
        "parameters = {\n",
        "    'classifier': [BinaryRelevance()],\n",
        "    'classifier__classifier': [RandomForestClassifier()],\n",
        "    'classifier__classifier__n_estimators': [10, 20, 50],\n",
        "    'clusterer' : [\n",
        "        clusterer\n",
        "    ]\n",
        "}"
      ],
      "execution_count": null,
      "outputs": []
    },
    {
      "cell_type": "code",
      "metadata": {
        "id": "WTmS6DVUXOD_"
      },
      "source": [
        "lab_grid = GridSearchCV(LabelSpacePartitioningClassifier(), parameters, scoring = 'f1_micro')"
      ],
      "execution_count": null,
      "outputs": []
    },
    {
      "cell_type": "code",
      "metadata": {
        "id": "OyIHPEvPXOD_"
      },
      "source": [
        "%%time\n",
        "lab_grid.fit(X_train, y_train)"
      ],
      "execution_count": null,
      "outputs": []
    },
    {
      "cell_type": "code",
      "metadata": {
        "id": "1_cwGZE-XOEA"
      },
      "source": [
        "print(f'Best parameters: {lab_grid.best_params_}.\\nBest score: {lab_grid.best_score_}')"
      ],
      "execution_count": null,
      "outputs": []
    },
    {
      "cell_type": "code",
      "metadata": {
        "id": "TcuIUPLlXOEA"
      },
      "source": [
        "y_pred = lab_grid.predict(X_val)"
      ],
      "execution_count": 75,
      "outputs": []
    },
    {
      "cell_type": "code",
      "metadata": {
        "id": "z09s9M2IXOEA"
      },
      "source": [
        "y_prob = lab_grid.predict_proba(X_val)"
      ],
      "execution_count": 76,
      "outputs": []
    },
    {
      "cell_type": "code",
      "metadata": {
        "id": "198nTSBxXOEA"
      },
      "source": [
        "y_prob_array = y_prob.toarray()"
      ],
      "execution_count": 77,
      "outputs": []
    },
    {
      "cell_type": "code",
      "metadata": {
        "id": "0eI8YGDxXOEA"
      },
      "source": [
        "accuracy_score = accuracy_score(y_val.values, y_pred)"
      ],
      "execution_count": null,
      "outputs": []
    },
    {
      "cell_type": "code",
      "metadata": {
        "id": "3nsCzUKgXOEA"
      },
      "source": [
        "print(f'Accuracy score: {accuracy_score}')"
      ],
      "execution_count": null,
      "outputs": []
    },
    {
      "cell_type": "code",
      "metadata": {
        "id": "IVW8263-XOEA"
      },
      "source": [
        "f1_score = f1_score(y_val.values, y_pred, average = 'micro')"
      ],
      "execution_count": null,
      "outputs": []
    },
    {
      "cell_type": "code",
      "metadata": {
        "id": "pnb_0jSlXOEA"
      },
      "source": [
        "print(f'F1-score: {accuracy_score}')"
      ],
      "execution_count": null,
      "outputs": []
    },
    {
      "cell_type": "code",
      "metadata": {
        "id": "Y-cFAAnuXOEA"
      },
      "source": [
        "logging_score = log_loss(y_val.values, y_prob_array)"
      ],
      "execution_count": 81,
      "outputs": []
    },
    {
      "cell_type": "code",
      "metadata": {
        "colab": {
          "base_uri": "https://localhost:8080/"
        },
        "id": "AbbOT7UjXOEA",
        "outputId": "2118b153-e881-4f74-c694-a175a4aa5ba1"
      },
      "source": [
        "print(f'Log-loss score: {logging_score}')"
      ],
      "execution_count": 82,
      "outputs": [
        {
          "output_type": "stream",
          "text": [
            "Log-loss score: 8.653149769241583\n"
          ],
          "name": "stdout"
        }
      ]
    },
    {
      "cell_type": "code",
      "metadata": {
        "id": "RqdzWuxAXOEA"
      },
      "source": [
        "hamming_loss = hamming_loss(y_val.values, y_pred)"
      ],
      "execution_count": null,
      "outputs": []
    },
    {
      "cell_type": "code",
      "metadata": {
        "scrolled": true,
        "id": "TIrfpJ4vXOEA",
        "outputId": "b6241dfc-0cea-437b-80b2-4f50677ce3fa",
        "colab": {
          "base_uri": "https://localhost:8080/"
        }
      },
      "source": [
        "print(f'Hamming-loss score: {hamming_loss}')"
      ],
      "execution_count": 84,
      "outputs": [
        {
          "output_type": "stream",
          "text": [
            "Hamming-loss score: 0.003414527559183514\n"
          ],
          "name": "stdout"
        }
      ]
    },
    {
      "cell_type": "code",
      "metadata": {
        "id": "PkQ1SuviXOEA"
      },
      "source": [
        "with open('./data/models/lab_cv_model.pkl','wb') as outfile:\n",
        "  pickle.dump(lab_grid, outfile)"
      ],
      "execution_count": null,
      "outputs": []
    },
    {
      "cell_type": "markdown",
      "metadata": {
        "id": "GYGj5_-qXOEA"
      },
      "source": [
        "# 4. References"
      ]
    },
    {
      "cell_type": "code",
      "metadata": {
        "id": "uIcKIi4VXOEA"
      },
      "source": [
        "# https://skml.readthedocs.io/en/latest/auto_examples/example_lp.html\n",
        "# https://xang1234.github.io/multi-label/\n",
        "# https://towardsdatascience.com/journey-to-the-center-of-multi-label-classification-384c40229bff\n",
        "# http://scikit.ml/modelselection.html\n",
        "# https://scikit-learn.org/stable/modules/generated/sklearn.metrics.multilabel_confusion_matrix.html"
      ],
      "execution_count": null,
      "outputs": []
    }
  ]
}